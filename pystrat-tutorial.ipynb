{
 "cells": [
  {
   "cell_type": "markdown",
   "metadata": {},
   "source": [
    "# pystrat-tutorial\n",
    "\n",
    "This Jupyter notebook is intended to provide a minimal working example (MWE) of core pystrat functionality. The pystrat package can be found here: https://github.com/yuempark/pystrat\n",
    "\n",
    "The user is encouraged to read the docstrings for each function for further information.\n",
    "\n",
    "Note that all data used in this notebook is modified or fabricated for instructional purposes, and does not accurately reflect real collected data."
   ]
  },
  {
   "cell_type": "code",
   "execution_count": 1,
   "metadata": {},
   "outputs": [],
   "source": [
    "# built in modules\n",
    "import pandas as pd\n",
    "import numpy as np\n",
    "import matplotlib.pyplot as plt\n",
    "\n",
    "# pystrat\n",
    "from pystrat import pystrat"
   ]
  },
  {
   "cell_type": "markdown",
   "metadata": {},
   "source": [
    "To plot figures inline with text/code, we use the Jupyter \"magic\" command below."
   ]
  },
  {
   "cell_type": "code",
   "execution_count": 2,
   "metadata": {},
   "outputs": [],
   "source": [
    "%matplotlib inline "
   ]
  },
  {
   "cell_type": "markdown",
   "metadata": {},
   "source": [
    "You can save any figure by adding the following line before the `plt.show()` command:\n",
    "```python\n",
    "plt.savefig('<name_of_figure>.pdf')\n",
    "```\n",
    "The format of the saved figure is specified with the extension of the file name (example above uses pdf).\n",
    "\n",
    "By default, matplotlib exports figures with all labels and text annotations converted to vector paths. However, it is often preferable to preserve these as text objects so that font, font size, etc. can easily be manipulated when importing the figure into Illustrator, for example. To do this, add the one of the following lines (depending on your preferred format) to a new cell and execute it.\n",
    "```python\n",
    "matplotlib.rcParams['svg.fonttype'] = 'none'\n",
    "matplotlib.rcParams['pdf.fonttype'] = 42\n",
    "```"
   ]
  },
  {
   "cell_type": "code",
   "execution_count": 3,
   "metadata": {},
   "outputs": [
    {
     "data": {
      "text/html": [
       "<div>\n",
       "<style scoped>\n",
       "    .dataframe tbody tr th:only-of-type {\n",
       "        vertical-align: middle;\n",
       "    }\n",
       "\n",
       "    .dataframe tbody tr th {\n",
       "        vertical-align: top;\n",
       "    }\n",
       "\n",
       "    .dataframe thead th {\n",
       "        text-align: right;\n",
       "    }\n",
       "</style>\n",
       "<table border=\"1\" class=\"dataframe\">\n",
       "  <thead>\n",
       "    <tr style=\"text-align: right;\">\n",
       "      <th></th>\n",
       "      <th>THICKNESS</th>\n",
       "      <th>LITHOLOGY</th>\n",
       "      <th>GRAIN_SIZE</th>\n",
       "      <th>COLOUR</th>\n",
       "      <th>FEATURES</th>\n",
       "    </tr>\n",
       "  </thead>\n",
       "  <tbody>\n",
       "    <tr>\n",
       "      <th>0</th>\n",
       "      <td>14.8</td>\n",
       "      <td>si</td>\n",
       "      <td>sts</td>\n",
       "      <td>purple</td>\n",
       "      <td>NaN</td>\n",
       "    </tr>\n",
       "    <tr>\n",
       "      <th>1</th>\n",
       "      <td>0.2</td>\n",
       "      <td>tuff</td>\n",
       "      <td>tuff</td>\n",
       "      <td>tuff</td>\n",
       "      <td>NaN</td>\n",
       "    </tr>\n",
       "    <tr>\n",
       "      <th>2</th>\n",
       "      <td>1.5</td>\n",
       "      <td>si</td>\n",
       "      <td>sts</td>\n",
       "      <td>purple</td>\n",
       "      <td>NaN</td>\n",
       "    </tr>\n",
       "    <tr>\n",
       "      <th>3</th>\n",
       "      <td>4.8</td>\n",
       "      <td>cover</td>\n",
       "      <td>cover</td>\n",
       "      <td>cover</td>\n",
       "      <td>NaN</td>\n",
       "    </tr>\n",
       "    <tr>\n",
       "      <th>4</th>\n",
       "      <td>3.7</td>\n",
       "      <td>si</td>\n",
       "      <td>sts</td>\n",
       "      <td>purple</td>\n",
       "      <td>NaN</td>\n",
       "    </tr>\n",
       "  </tbody>\n",
       "</table>\n",
       "</div>"
      ],
      "text/plain": [
       "   THICKNESS LITHOLOGY GRAIN_SIZE  COLOUR FEATURES\n",
       "0       14.8        si        sts  purple      NaN\n",
       "1        0.2      tuff       tuff    tuff      NaN\n",
       "2        1.5        si        sts  purple      NaN\n",
       "3        4.8     cover      cover   cover      NaN\n",
       "4        3.7        si        sts  purple      NaN"
      ]
     },
     "execution_count": 3,
     "metadata": {},
     "output_type": "execute_result"
    }
   ],
   "source": [
    "litho = pd.read_csv('example-data/lithostratigraphy.csv')\n",
    "litho.head()"
   ]
  },
  {
   "cell_type": "code",
   "execution_count": 4,
   "metadata": {},
   "outputs": [],
   "source": [
    "test = pystrat.Section(litho['THICKNESS'], litho['LITHOLOGY'])"
   ]
  },
  {
   "cell_type": "code",
   "execution_count": 5,
   "metadata": {},
   "outputs": [
    {
     "data": {
      "text/plain": [
       "2435.5"
      ]
     },
     "execution_count": 5,
     "metadata": {},
     "output_type": "execute_result"
    }
   ],
   "source": [
    "test.total_thickness"
   ]
  },
  {
   "cell_type": "code",
   "execution_count": 6,
   "metadata": {},
   "outputs": [],
   "source": [
    "test.add_facies_attribute('grain_size', litho['GRAIN_SIZE'])\n",
    "test.add_facies_attribute('color', litho['COLOUR'])\n",
    "test.add_facies_attribute('features', litho['FEATURES'])"
   ]
  },
  {
   "cell_type": "code",
   "execution_count": 7,
   "metadata": {},
   "outputs": [
    {
     "data": {
      "text/plain": [
       "array([nan, nan, nan, nan, nan, nan, nan, nan, nan, nan, nan, nan, nan,\n",
       "       nan, nan, nan, nan, nan, nan, nan, nan, nan, nan, nan, nan, nan,\n",
       "       nan, nan, nan, nan, nan, nan, nan, nan, 'tectonized', nan, nan,\n",
       "       nan, nan, nan, nan, nan, nan, nan, nan, nan, nan, nan, nan, nan,\n",
       "       nan, nan, nan, nan, nan, nan, nan, nan, 'tectonized', nan, nan,\n",
       "       nan, 'tectonized', nan, nan, nan, nan, nan, nan, nan, nan, nan,\n",
       "       nan, nan, nan, nan, nan, 'tectonized', nan, nan, nan, 'tectonized',\n",
       "       nan, nan, nan, nan, nan, nan, nan, nan, nan, nan, 'tectonized',\n",
       "       nan, nan, nan, nan, 'tectonized', nan, nan, nan, nan, nan, nan,\n",
       "       nan, nan, nan, nan, nan, nan, nan, 'tectonized', nan, nan, nan,\n",
       "       nan, 'tectonized', nan, 'tectonized', nan, nan, nan, nan, nan, nan,\n",
       "       nan, nan, nan, nan, nan, 'tectonized', nan, 'tectonized', nan, nan,\n",
       "       nan, nan, 'tectonized', nan, nan, nan, nan, nan, nan, 'tectonized',\n",
       "       nan, nan], dtype=object)"
      ]
     },
     "execution_count": 7,
     "metadata": {},
     "output_type": "execute_result"
    }
   ],
   "source": [
    "test.features"
   ]
  },
  {
   "cell_type": "code",
   "execution_count": 8,
   "metadata": {},
   "outputs": [
    {
     "data": {
      "text/html": [
       "<div>\n",
       "<style scoped>\n",
       "    .dataframe tbody tr th:only-of-type {\n",
       "        vertical-align: middle;\n",
       "    }\n",
       "\n",
       "    .dataframe tbody tr th {\n",
       "        vertical-align: top;\n",
       "    }\n",
       "\n",
       "    .dataframe thead th {\n",
       "        text-align: right;\n",
       "    }\n",
       "</style>\n",
       "<table border=\"1\" class=\"dataframe\">\n",
       "  <thead>\n",
       "    <tr style=\"text-align: right;\">\n",
       "      <th></th>\n",
       "      <th>CARB_SAMPLE</th>\n",
       "      <th>CARB_REMARKS</th>\n",
       "      <th>CARB_HEIGHT</th>\n",
       "      <th>CARB_UNIT</th>\n",
       "      <th>CARB_d13C</th>\n",
       "      <th>CARB_d18O</th>\n",
       "    </tr>\n",
       "  </thead>\n",
       "  <tbody>\n",
       "    <tr>\n",
       "      <th>0</th>\n",
       "      <td>1.5</td>\n",
       "      <td>NaN</td>\n",
       "      <td>1.5</td>\n",
       "      <td>0</td>\n",
       "      <td>0.766</td>\n",
       "      <td>-0.814</td>\n",
       "    </tr>\n",
       "    <tr>\n",
       "      <th>1</th>\n",
       "      <td>5.6</td>\n",
       "      <td>NaN</td>\n",
       "      <td>5.6</td>\n",
       "      <td>0</td>\n",
       "      <td>1.737</td>\n",
       "      <td>0.893</td>\n",
       "    </tr>\n",
       "    <tr>\n",
       "      <th>2</th>\n",
       "      <td>12.0</td>\n",
       "      <td>NaN</td>\n",
       "      <td>12.0</td>\n",
       "      <td>0</td>\n",
       "      <td>1.882</td>\n",
       "      <td>0.732</td>\n",
       "    </tr>\n",
       "    <tr>\n",
       "      <th>3</th>\n",
       "      <td>21.4</td>\n",
       "      <td>NaN</td>\n",
       "      <td>21.4</td>\n",
       "      <td>4</td>\n",
       "      <td>1.398</td>\n",
       "      <td>-0.682</td>\n",
       "    </tr>\n",
       "    <tr>\n",
       "      <th>4</th>\n",
       "      <td>25.5</td>\n",
       "      <td>NaN</td>\n",
       "      <td>25.5</td>\n",
       "      <td>6</td>\n",
       "      <td>1.661</td>\n",
       "      <td>-0.516</td>\n",
       "    </tr>\n",
       "  </tbody>\n",
       "</table>\n",
       "</div>"
      ],
      "text/plain": [
       "   CARB_SAMPLE CARB_REMARKS  CARB_HEIGHT  CARB_UNIT  CARB_d13C  CARB_d18O\n",
       "0          1.5          NaN          1.5          0      0.766     -0.814\n",
       "1          5.6          NaN          5.6          0      1.737      0.893\n",
       "2         12.0          NaN         12.0          0      1.882      0.732\n",
       "3         21.4          NaN         21.4          4      1.398     -0.682\n",
       "4         25.5          NaN         25.5          6      1.661     -0.516"
      ]
     },
     "execution_count": 8,
     "metadata": {},
     "output_type": "execute_result"
    }
   ],
   "source": [
    "chemo = pd.read_csv('example-data/chemostratigraphy.csv')\n",
    "chemo.head()"
   ]
  },
  {
   "cell_type": "code",
   "execution_count": 9,
   "metadata": {},
   "outputs": [],
   "source": [
    "test.add_data_attribute('d13C', chemo['CARB_HEIGHT'], chemo['CARB_d13C'])"
   ]
  },
  {
   "cell_type": "code",
   "execution_count": 11,
   "metadata": {},
   "outputs": [
    {
     "data": {
      "text/plain": [
       "array([ 0.766,  1.737,  1.882,  1.398,  1.661,  0.744,  0.911,  1.485,\n",
       "        1.284,  0.788,  1.7  ,  2.366,  2.595,  0.37 ,  1.965,  1.584,\n",
       "        1.19 ,  1.978,  1.85 ,  1.925,  1.752,  2.305,  2.032, -3.53 ,\n",
       "        4.127,  3.945,  4.716,  4.903,  5.565,  5.994,  5.968,  6.284,\n",
       "        5.2  ,  6.365,  7.059,  7.019,  6.85 ,  7.035,  7.22 ,  7.146,\n",
       "        5.267,  7.005,  7.071,  6.598,  7.178,  5.789,  5.561,  5.677,\n",
       "        5.666,  4.176,  5.937,  5.512,  5.538,  5.437,  4.612,  5.955,\n",
       "        4.503,  5.339,  5.683,  4.12 ,  6.018,  5.719,  6.641,  6.595,\n",
       "        6.463,  6.454,  6.727,  6.719,  6.799,  6.61 ,  6.701,  6.89 ,\n",
       "        6.097,  5.819,  6.525,  6.44 ,  6.65 ,  6.892,  7.264,  6.887,\n",
       "        6.995,  6.428,  6.253,  7.002,  6.891,  7.109,  7.089,  6.816,\n",
       "       16.429,  7.078,  5.266,  6.553,  6.682,  6.829,  6.946,  6.863,\n",
       "        5.859,  5.841,  4.913,  5.165,  5.12 ,  6.534,  6.513,  6.363,\n",
       "        6.535,  6.446,  6.611,  6.909,  6.51 ,  6.749,  6.658,  6.457,\n",
       "        6.384,  6.134,  5.077,  6.362,  6.511,  6.685,  6.423,  4.409,\n",
       "        3.814,  4.344,  4.661,  5.899,  4.717,  3.531,  4.532,  3.932,\n",
       "        2.27 ,  4.139,  4.609,  4.058,  5.459,  5.891,  5.352,  6.114,\n",
       "        5.289,  4.971,  5.61 ,  5.595,  5.45 ,  5.372,  5.977,  4.407,\n",
       "        4.964,  4.704,  5.476,  4.683,  4.64 ,  4.619,  5.641,  5.077,\n",
       "        5.305,  5.156,  5.124,  4.852,  4.681,  5.157,  5.814,  6.086,\n",
       "        5.705,  5.563,  4.438,  4.523,  4.472,  4.403,  4.21 ,  4.547,\n",
       "        3.329,  3.409,  4.176,  3.41 ,  5.412,  2.428,  5.129,  5.138,\n",
       "        4.651,  5.449,  2.745,  3.923,  4.02 ,  3.448,  3.583,  1.488,\n",
       "        3.338,  3.721,    nan,  2.373,  3.655,  4.162,  4.235,  4.168,\n",
       "        3.23 ,  4.394,  3.393,  6.059,  5.594,  5.768,  5.735,  5.562,\n",
       "        6.133,  4.667,  3.688,  1.866,  0.448,  5.341,  5.192,  5.346,\n",
       "        5.234,  5.228,  5.3  ,  5.239,  5.145,  3.7  ,  3.642,  5.237,\n",
       "        5.14 ,  5.42 ,  4.968,  5.085,  5.261,  4.32 ,  4.86 ,  4.768,\n",
       "        4.632,  4.796,  4.557,  4.192,  4.527,  2.02 ,  1.882,  2.03 ,\n",
       "        4.892,  6.575,  6.186,  5.803,  5.367,  5.427,  4.23 ,  6.384,\n",
       "        5.949,  5.207,  5.982,  5.935,  7.136,  6.309,  6.529,  5.323,\n",
       "        4.374,  3.633,  5.662,  7.023,  3.894,  2.044,  3.211,    nan,\n",
       "          nan,  1.652,  0.791,  0.289, -0.417, -0.577, -0.743, -0.526,\n",
       "        1.467, -2.971, -2.808,  3.866,  1.297,  2.472,  2.495,  2.308,\n",
       "        2.744,    nan,    nan])"
      ]
     },
     "execution_count": 11,
     "metadata": {},
     "output_type": "execute_result"
    }
   ],
   "source": [
    "test.d13C.values"
   ]
  },
  {
   "cell_type": "code",
   "execution_count": null,
   "metadata": {},
   "outputs": [],
   "source": []
  },
  {
   "cell_type": "code",
   "execution_count": null,
   "metadata": {},
   "outputs": [],
   "source": []
  },
  {
   "cell_type": "code",
   "execution_count": null,
   "metadata": {},
   "outputs": [],
   "source": []
  },
  {
   "cell_type": "code",
   "execution_count": null,
   "metadata": {},
   "outputs": [],
   "source": []
  },
  {
   "cell_type": "code",
   "execution_count": null,
   "metadata": {},
   "outputs": [],
   "source": []
  },
  {
   "cell_type": "code",
   "execution_count": null,
   "metadata": {},
   "outputs": [],
   "source": []
  },
  {
   "cell_type": "code",
   "execution_count": null,
   "metadata": {},
   "outputs": [],
   "source": []
  },
  {
   "cell_type": "markdown",
   "metadata": {},
   "source": [
    "# Needs Review\n",
    "\n",
    "Due to the new OOP system."
   ]
  },
  {
   "cell_type": "markdown",
   "metadata": {},
   "source": [
    "## Plot a Stratigraphic Section\n",
    "\n",
    "Import the data - note that it must follow the formatting of `data_template.csv`. The data .csv must contain at least two headers: one of these headers MUST be named 'THICKNESS'. Other columns may be named whatever the user desires.\n",
    "\n",
    "pystrat functions used:\n",
    "\n",
    "* `read_data`"
   ]
  },
  {
   "cell_type": "code",
   "execution_count": null,
   "metadata": {},
   "outputs": [],
   "source": [
    "data = read_data('templates/data_template.csv', header=4)\n",
    "data.head()"
   ]
  },
  {
   "cell_type": "markdown",
   "metadata": {},
   "source": [
    "Import the formatting - note that it must follow the formatting of `formatting_template.csv`:\n",
    "\n",
    "* Columns 1-4 are used to set the colour of the boxes\n",
    "    * columns 1-3 must be called `r`, `g`, and `b` (for red, green, and blue), and values in columns 1-3 must be between 0-255\n",
    "    * the header of column 4 must match one of the headers used in the data .csv, and all values in the data must be a subset of the values in this column\n",
    "* Columns 6-7 are used to set the width of the boxes\n",
    "    * column 6 must be called `width`\n",
    "    * the header of column 7 must match one of the headers used in the data .csv, and all values in the data must be a subset of the values in this column\n",
    "    * column 5 should be left blank for readability.\n",
    "\n",
    "pystrat functions used:\n",
    "\n",
    "* `read_formatting`"
   ]
  },
  {
   "cell_type": "code",
   "execution_count": null,
   "metadata": {},
   "outputs": [],
   "source": [
    "formatting = read_formatting('templates/formatting_template.csv')"
   ]
  },
  {
   "cell_type": "markdown",
   "metadata": {},
   "source": [
    "Integrity check - check that values in the data are a subset of values in the formatting:\n",
    "\n",
    "pystrat functions used:\n",
    "\n",
    "* `integrity_check`"
   ]
  },
  {
   "cell_type": "code",
   "execution_count": null,
   "metadata": {},
   "outputs": [],
   "source": [
    "integrity_check(data, formatting)"
   ]
  },
  {
   "cell_type": "markdown",
   "metadata": {},
   "source": [
    "Plot:\n",
    "\n",
    "pystrat functions used:\n",
    "\n",
    "* `initiate_figure`\n",
    "* `add_data_axis`"
   ]
  },
  {
   "cell_type": "code",
   "execution_count": null,
   "metadata": {},
   "outputs": [],
   "source": [
    "# set up the strat ratio which sets the vertical scale of the section\n",
    "strat_ratio = 0.004\n",
    "\n",
    "# initiate the figure and set size\n",
    "fig, ax = initiate_figure(data, formatting, strat_ratio, figwidth=12,\n",
    "                          width_ratios=[1,1,1,1,0.5,0.5], linewidth=0.5)\n",
    "\n",
    "# add data for d13C\n",
    "add_data_axis(fig, ax, 2, data['CARB_d13C'], data['CARB_HEIGHT'], 'scatter')\n",
    "ax[2].set_xlabel('$\\delta^{13}$C')\n",
    "ax[2].set_xlim(-15,10)\n",
    "ax[2].set_xticks([-15,-10,-5,0,5,10])\n",
    "ax[2].xaxis.grid(ls='--')\n",
    "\n",
    "# add data for d18O\n",
    "add_data_axis(fig, ax, 3, data['CARB_d18O'], data['CARB_HEIGHT'], 'scatter',\n",
    "              color='orange')\n",
    "ax[3].set_xlabel('$\\delta^{18}$O')\n",
    "ax[3].set_xlim(-20,5)\n",
    "ax[3].set_xticks([-20,-15,-10,-5,0,5])\n",
    "ax[3].xaxis.grid(ls='--')\n",
    "\n",
    "# add height of paleomag samples\n",
    "add_data_axis(fig, ax, 4, np.zeros(len(data['PM_HEIGHT'])), data['PM_HEIGHT'],\n",
    "              'scatter', color=[0.8, 0.2, 0.6])\n",
    "ax[4].set_xticks([])\n",
    "ax[4].set_title('pmag sites')\n",
    "\n",
    "# add height of ash samples\n",
    "add_data_axis(fig, ax, 5, np.zeros(len(data['ASH_HEIGHT'])), data['ASH_HEIGHT'],\n",
    "              'scatter', color='#AF4A34',marker='*')\n",
    "ax[5].set_xticks([])\n",
    "ax[5].set_title('ash')\n",
    "\n",
    "plt.show(fig)"
   ]
  },
  {
   "cell_type": "markdown",
   "metadata": {},
   "source": [
    "## LOWESS Fitting\n",
    "\n",
    "Locally weighted scatter plot smoothing. To perform the basic LOWESS:\n",
    "\n",
    "pystrat functions used:\n",
    "\n",
    "* `lowess_fit`"
   ]
  },
  {
   "cell_type": "code",
   "execution_count": null,
   "metadata": {},
   "outputs": [],
   "source": [
    "# the LOWESS fit\n",
    "height_LOWESS, d13C_LOWESS = lowess_fit(data['CARB_HEIGHT'], data['CARB_d13C'], frac=0.5)\n",
    "\n",
    "# plot the results\n",
    "fig, ax = plt.subplots(figsize=(10,3))\n",
    "\n",
    "ax.scatter(data['CARB_HEIGHT'], data['CARB_d13C'], c='C7', label='data')\n",
    "ax.plot(height_LOWESS, d13C_LOWESS, c='C1', lw=3, label='LOWESS')\n",
    "ax.yaxis.grid(ls='--')\n",
    "ax.set_xlabel('stratigraphic height [m]')\n",
    "ax.set_ylabel('$\\delta^{13}$C')\n",
    "ax.legend()\n",
    "\n",
    "plt.show(fig)"
   ]
  },
  {
   "cell_type": "markdown",
   "metadata": {},
   "source": [
    "To normalize the data against the LOWESS fit:\n",
    "\n",
    "pystrat functions used:\n",
    "\n",
    "* `lowess_normalize`"
   ]
  },
  {
   "cell_type": "code",
   "execution_count": null,
   "metadata": {},
   "outputs": [],
   "source": [
    "# the LOWESS fit\n",
    "height_LOWESS, d13C_LOWESS, d13C_norm = lowess_normalize(data['CARB_HEIGHT'], data['CARB_d13C'], frac=0.5)\n",
    "\n",
    "# plot the results\n",
    "fig, ax = plt.subplots(nrows=2, ncols=1, sharex=True, figsize=(10,7))\n",
    "\n",
    "ax[0].scatter(data['CARB_HEIGHT'], data['CARB_d13C'], c='C7', label='data')\n",
    "ax[0].plot(height_LOWESS, d13C_LOWESS, c='C1', lw=3, label='LOWESS')\n",
    "ax[0].yaxis.grid(ls='--')\n",
    "ax[0].set_ylabel('$\\delta^{13}$C')\n",
    "ax[0].legend()\n",
    "\n",
    "ax[1].scatter(data['CARB_HEIGHT'], d13C_norm, c='C1', label='normalized data')\n",
    "ax[1].yaxis.grid(ls='--')\n",
    "ax[1].set_ylabel('normalized $\\delta^{13}$C')\n",
    "ax[1].legend()\n",
    "\n",
    "plt.show(fig)"
   ]
  },
  {
   "cell_type": "markdown",
   "metadata": {},
   "source": [
    "## Calculate Stratigraphic Thickness\n",
    "\n",
    "Given the following for the start and end points, calculate a stratigraphic thickness between two points:\n",
    "\n",
    "* latitude (decimal degrees)\n",
    "* longitude (decimal degrees)\n",
    "* elevation (m)\n",
    "* strike of bedding (RHR)\n",
    "* dip of bedding\n",
    "\n",
    "pystrat functions used:\n",
    "\n",
    "* `calculate_stratigraphic_thickness`"
   ]
  },
  {
   "cell_type": "code",
   "execution_count": null,
   "metadata": {},
   "outputs": [],
   "source": [
    "# the data\n",
    "lat = (28.00181863, 28.00386025)\n",
    "lon = (108.7997006, 108.8009878)\n",
    "elev = (1159, 1167)\n",
    "strike = (342, 335)\n",
    "dip = (41, 36)\n",
    "\n",
    "d = calculate_stratigraphic_thickness(lat, lon, elev, strike, dip)\n",
    "\n",
    "print('The stratigraphic distance between the two points is: ' + str(np.round(d,2)) + ' m')"
   ]
  },
  {
   "cell_type": "markdown",
   "metadata": {},
   "source": [
    "If you have a .csv with a number of stratigraphic thicknesses that need to be calculated, there is a function for that too. Note that the .csv must follow the formatting of `covers_template.csv`:\n",
    "\n",
    "pystrat functions used:\n",
    "\n",
    "* `calculate_stratigraphic_thickness_csv`"
   ]
  },
  {
   "cell_type": "code",
   "execution_count": null,
   "metadata": {},
   "outputs": [],
   "source": [
    "covers = calculate_stratigraphic_thickness_csv('templates/covers_template.csv')\n",
    "covers"
   ]
  },
  {
   "cell_type": "markdown",
   "metadata": {},
   "source": [
    "## Calculate Distance to Specified Units\n",
    "\n",
    "Calculate the closest stratigraphic distance of each sample to a set of units:\n",
    "\n",
    "pystrat functions used:\n",
    "\n",
    "* `distance_to_units`"
   ]
  },
  {
   "cell_type": "code",
   "execution_count": null,
   "metadata": {},
   "outputs": [],
   "source": [
    "# let's say we are interested in seeing how close the samples are to either 'cover' or 'tuff' units\n",
    "units = ['cover', 'tuff']\n",
    "\n",
    "# the header of the column in 'data' in which to find the units in 'units'\n",
    "unit_header = 'GRAIN_SIZE'\n",
    "\n",
    "# run the function\n",
    "unit_d = distance_to_units(data, data['CARB_HEIGHT'], units, unit_header)"
   ]
  },
  {
   "cell_type": "markdown",
   "metadata": {},
   "source": [
    "We can plot the data, with samples within, say, 60cm of the specified units coloured differently:"
   ]
  },
  {
   "cell_type": "code",
   "execution_count": null,
   "metadata": {},
   "outputs": [],
   "source": [
    "# initiate the figure\n",
    "fig, ax = initiate_figure(data, formatting, strat_ratio, 6, [1,1], linewidth=0.5, features=False)\n",
    "\n",
    "# add data for d13C that is below the threshold\n",
    "add_data_axis(fig, ax, 1, data[unit_d<0.6]['CARB_d13C'], data[unit_d<0.6]['CARB_HEIGHT'], 'scatter',\n",
    "              color='C1', label='<60cm')\n",
    "\n",
    "# add data for d13C that is above the threshold\n",
    "add_data_axis(fig, ax, 1, data[unit_d>=0.6]['CARB_d13C'], data[unit_d>=0.6]['CARB_HEIGHT'], 'scatter',\n",
    "              color='C7', label='>=60cm')\n",
    "\n",
    "# prettify\n",
    "ax[1].set_xlabel('$\\delta^{13}$C')\n",
    "ax[1].set_xlim(-15,10)\n",
    "ax[1].set_xticks([-15,-10,-5,0,5,10])\n",
    "ax[1].xaxis.grid(ls='--')\n",
    "ax[1].legend()\n",
    "\n",
    "plt.show(fig)"
   ]
  },
  {
   "cell_type": "markdown",
   "metadata": {},
   "source": [
    "## Assign Units to Samples\n",
    "\n",
    "The functionality described here is useful if the user wishes to assign a stratigraphic unit (taken from the data .csv) to collected samples. This function also corrects for addition/subtraction errors made in the field, and assigns the correct stratigraphic height to collected samples.\n",
    "\n",
    "Note that this function has been designed specifically around sample collection/logging conventions used in the Swanson-Hysell Group, and may not apply if your conventions differ:\n",
    "\n",
    "* the `recorded_height` parameter is the height of each sample as recorded in the field\n",
    "* the `remarks` parameter is used to denote calculation errors made in the field\n",
    "    * if the true height of the sample is X m above the recorded height, write `ADD X`\n",
    "    * if the true height of the sample is X m below the recorded height, write `SUB X`\n",
    "    * these corrections only need to be noted at the first sample where the correction comes into effect (i.e. it will apply to all following samples until a new remark is found)\n",
    "    \n",
    "Below is an example of the recommended way to apply these functions:\n",
    "\n",
    "pystrat functions used:\n",
    "\n",
    "* `sample_curate`"
   ]
  },
  {
   "cell_type": "code",
   "execution_count": null,
   "metadata": {},
   "outputs": [],
   "source": [
    "# do the calculations\n",
    "data_sample_info = sample_curate(data, data['CARB_SAMPLE'], data['CARB_REMARKS'])"
   ]
  },
  {
   "cell_type": "markdown",
   "metadata": {},
   "source": [
    "The code will flag samples that are on unit boundaries by adding 0.5 to the unit number. User input is required to correctly identify which unit these samples belong to:\n",
    "\n",
    "* if the sample comes from the lower unit, subtract 0.5\n",
    "* if the sample comes from the upper unit, add 0.5\n",
    "\n",
    "To make this manual process easier, the following snippet of code prints the code necessary to make adjustments to the unit number:\n",
    "\n",
    "pystrat functions used:\n",
    "\n",
    "* `print_unit_edit_code`"
   ]
  },
  {
   "cell_type": "code",
   "execution_count": null,
   "metadata": {},
   "outputs": [],
   "source": [
    "# print the code needed to edit samples that are on unit boundaries\n",
    "print_unit_edit_code(data_sample_info, 'data_sample_info')\n",
    "\n",
    "# also show the recorded height and true height of these samples\n",
    "mask = (data_sample_info['unit'] != np.floor(data_sample_info['unit']))\n",
    "data_sample_info[mask]"
   ]
  },
  {
   "cell_type": "markdown",
   "metadata": {},
   "source": [
    "Copy and paste the code that was printed by `print_unit_edit_code` into a new cell (as below), and edit the unit numbers as appropriate:"
   ]
  },
  {
   "cell_type": "code",
   "execution_count": null,
   "metadata": {
    "scrolled": false
   },
   "outputs": [],
   "source": [
    "data_sample_info.loc[101,'unit'] = 77\n",
    "data_sample_info.loc[120,'unit'] = 81\n",
    "data_sample_info.loc[257,'unit'] = 126"
   ]
  },
  {
   "cell_type": "markdown",
   "metadata": {},
   "source": [
    "To save the correct height and sample unit to the original data .csv, you can simply copy and paste the output table to the original data .csv:"
   ]
  },
  {
   "cell_type": "code",
   "execution_count": null,
   "metadata": {
    "scrolled": true
   },
   "outputs": [],
   "source": [
    "pd.set_option(\"display.max_rows\",9999)\n",
    "data_sample_info"
   ]
  }
 ],
 "metadata": {
  "kernelspec": {
   "display_name": "Python 3",
   "language": "python",
   "name": "python3"
  },
  "language_info": {
   "codemirror_mode": {
    "name": "ipython",
    "version": 3
   },
   "file_extension": ".py",
   "mimetype": "text/x-python",
   "name": "python",
   "nbconvert_exporter": "python",
   "pygments_lexer": "ipython3",
   "version": "3.7.6"
  },
  "toc": {
   "base_numbering": 1,
   "nav_menu": {
    "height": "120px",
    "width": "252px"
   },
   "number_sections": false,
   "sideBar": true,
   "skip_h1_title": false,
   "title_cell": "Table of Contents",
   "title_sidebar": "Contents",
   "toc_cell": false,
   "toc_position": {
    "height": "648px",
    "left": "0px",
    "right": "1282px",
    "top": "111px",
    "width": "158px"
   },
   "toc_section_display": "block",
   "toc_window_display": true
  }
 },
 "nbformat": 4,
 "nbformat_minor": 2
}
