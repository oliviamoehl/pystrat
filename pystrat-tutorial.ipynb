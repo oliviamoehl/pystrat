{
 "cells": [
  {
   "cell_type": "markdown",
   "metadata": {},
   "source": [
    "# pystrat-tutorial\n",
    "\n",
    "This Jupyter notebook is intended to provide a minimal working example (MWE) of core pystrat functionality. The pystrat package can be found here: https://github.com/yuempark/pystrat\n",
    "\n",
    "The user is encouraged to read the docstrings for each function for further information.\n",
    "\n",
    "Note that all data used in this notebook is modified or fabricated for instructional purposes, and does not accurately reflect real collected data."
   ]
  },
  {
   "cell_type": "code",
   "execution_count": 1,
   "metadata": {},
   "outputs": [],
   "source": [
    "# built in modules\n",
    "import pandas as pd\n",
    "import numpy as np\n",
    "import matplotlib.pyplot as plt\n",
    "\n",
    "# pystrat\n",
    "from pystrat import pystrat"
   ]
  },
  {
   "cell_type": "markdown",
   "metadata": {},
   "source": [
    "To plot figures inline with text/code, we use the Jupyter \"magic\" command below."
   ]
  },
  {
   "cell_type": "code",
   "execution_count": 2,
   "metadata": {},
   "outputs": [],
   "source": [
    "%matplotlib inline "
   ]
  },
  {
   "cell_type": "markdown",
   "metadata": {},
   "source": [
    "You can save any figure by adding the following line before the `plt.show()` command:\n",
    "```python\n",
    "plt.savefig('<name_of_figure>.pdf')\n",
    "```\n",
    "The format of the saved figure is specified with the extension of the file name (example above uses pdf).\n",
    "\n",
    "By default, matplotlib exports figures with all labels and text annotations converted to vector paths. However, it is often preferable to preserve these as text objects so that font, font size, etc. can easily be manipulated when importing the figure into Illustrator, for example. To do this, add the one of the following lines (depending on your preferred format) to a new cell and execute it.\n",
    "```python\n",
    "matplotlib.rcParams['svg.fonttype'] = 'none'\n",
    "matplotlib.rcParams['pdf.fonttype'] = 42\n",
    "```"
   ]
  },
  {
   "cell_type": "code",
   "execution_count": 3,
   "metadata": {},
   "outputs": [
    {
     "data": {
      "text/html": [
       "<div>\n",
       "<style scoped>\n",
       "    .dataframe tbody tr th:only-of-type {\n",
       "        vertical-align: middle;\n",
       "    }\n",
       "\n",
       "    .dataframe tbody tr th {\n",
       "        vertical-align: top;\n",
       "    }\n",
       "\n",
       "    .dataframe thead th {\n",
       "        text-align: right;\n",
       "    }\n",
       "</style>\n",
       "<table border=\"1\" class=\"dataframe\">\n",
       "  <thead>\n",
       "    <tr style=\"text-align: right;\">\n",
       "      <th></th>\n",
       "      <th>THICKNESS</th>\n",
       "      <th>LITHOLOGY</th>\n",
       "      <th>GRAIN_SIZE</th>\n",
       "      <th>COLOUR</th>\n",
       "      <th>FEATURES</th>\n",
       "      <th>ASH_SAMPLE</th>\n",
       "      <th>ASH_HEIGHT</th>\n",
       "      <th>PM_SITE</th>\n",
       "      <th>PM_SAMPLE</th>\n",
       "      <th>PM_HEIGHT</th>\n",
       "      <th>CARB_SAMPLE</th>\n",
       "      <th>CARB_REMARKS</th>\n",
       "      <th>CARB_HEIGHT</th>\n",
       "      <th>CARB_UNIT</th>\n",
       "      <th>CARB_d13C</th>\n",
       "      <th>CARB_d18O</th>\n",
       "    </tr>\n",
       "  </thead>\n",
       "  <tbody>\n",
       "    <tr>\n",
       "      <th>0</th>\n",
       "      <td>14.8</td>\n",
       "      <td>si</td>\n",
       "      <td>sts</td>\n",
       "      <td>purple</td>\n",
       "      <td>NaN</td>\n",
       "      <td>1-53.1</td>\n",
       "      <td>911.7</td>\n",
       "      <td>17T001</td>\n",
       "      <td>A</td>\n",
       "      <td>934.60</td>\n",
       "      <td>1.5</td>\n",
       "      <td>NaN</td>\n",
       "      <td>1.5</td>\n",
       "      <td>0</td>\n",
       "      <td>0.766</td>\n",
       "      <td>-0.814</td>\n",
       "    </tr>\n",
       "    <tr>\n",
       "      <th>1</th>\n",
       "      <td>0.2</td>\n",
       "      <td>tuff</td>\n",
       "      <td>tuff</td>\n",
       "      <td>tuff</td>\n",
       "      <td>NaN</td>\n",
       "      <td>1-148.0</td>\n",
       "      <td>1006.6</td>\n",
       "      <td>17T001</td>\n",
       "      <td>B</td>\n",
       "      <td>934.72</td>\n",
       "      <td>5.6</td>\n",
       "      <td>NaN</td>\n",
       "      <td>5.6</td>\n",
       "      <td>0</td>\n",
       "      <td>1.737</td>\n",
       "      <td>0.893</td>\n",
       "    </tr>\n",
       "    <tr>\n",
       "      <th>2</th>\n",
       "      <td>1.5</td>\n",
       "      <td>si</td>\n",
       "      <td>sts</td>\n",
       "      <td>purple</td>\n",
       "      <td>NaN</td>\n",
       "      <td>1-148.9</td>\n",
       "      <td>1007.5</td>\n",
       "      <td>17T001</td>\n",
       "      <td>C</td>\n",
       "      <td>935.04</td>\n",
       "      <td>12.0</td>\n",
       "      <td>NaN</td>\n",
       "      <td>12.0</td>\n",
       "      <td>0</td>\n",
       "      <td>1.882</td>\n",
       "      <td>0.732</td>\n",
       "    </tr>\n",
       "    <tr>\n",
       "      <th>3</th>\n",
       "      <td>4.8</td>\n",
       "      <td>cover</td>\n",
       "      <td>cover</td>\n",
       "      <td>cover</td>\n",
       "      <td>NaN</td>\n",
       "      <td>2-138.3</td>\n",
       "      <td>138.3</td>\n",
       "      <td>17T001</td>\n",
       "      <td>D</td>\n",
       "      <td>935.03</td>\n",
       "      <td>21.4</td>\n",
       "      <td>NaN</td>\n",
       "      <td>21.4</td>\n",
       "      <td>4</td>\n",
       "      <td>1.398</td>\n",
       "      <td>-0.682</td>\n",
       "    </tr>\n",
       "    <tr>\n",
       "      <th>4</th>\n",
       "      <td>3.7</td>\n",
       "      <td>si</td>\n",
       "      <td>sts</td>\n",
       "      <td>purple</td>\n",
       "      <td>NaN</td>\n",
       "      <td>2-159.4</td>\n",
       "      <td>159.4</td>\n",
       "      <td>17T001</td>\n",
       "      <td>E</td>\n",
       "      <td>935.14</td>\n",
       "      <td>25.5</td>\n",
       "      <td>NaN</td>\n",
       "      <td>25.5</td>\n",
       "      <td>6</td>\n",
       "      <td>1.661</td>\n",
       "      <td>-0.516</td>\n",
       "    </tr>\n",
       "  </tbody>\n",
       "</table>\n",
       "</div>"
      ],
      "text/plain": [
       "   THICKNESS LITHOLOGY GRAIN_SIZE  COLOUR FEATURES ASH_SAMPLE  ASH_HEIGHT  \\\n",
       "0       14.8        si        sts  purple      NaN     1-53.1       911.7   \n",
       "1        0.2      tuff       tuff    tuff      NaN    1-148.0      1006.6   \n",
       "2        1.5        si        sts  purple      NaN    1-148.9      1007.5   \n",
       "3        4.8     cover      cover   cover      NaN    2-138.3       138.3   \n",
       "4        3.7        si        sts  purple      NaN    2-159.4       159.4   \n",
       "\n",
       "  PM_SITE PM_SAMPLE  PM_HEIGHT  CARB_SAMPLE CARB_REMARKS  CARB_HEIGHT  \\\n",
       "0  17T001         A     934.60          1.5          NaN          1.5   \n",
       "1  17T001         B     934.72          5.6          NaN          5.6   \n",
       "2  17T001         C     935.04         12.0          NaN         12.0   \n",
       "3  17T001         D     935.03         21.4          NaN         21.4   \n",
       "4  17T001         E     935.14         25.5          NaN         25.5   \n",
       "\n",
       "   CARB_UNIT  CARB_d13C  CARB_d18O  \n",
       "0          0      0.766     -0.814  \n",
       "1          0      1.737      0.893  \n",
       "2          0      1.882      0.732  \n",
       "3          4      1.398     -0.682  \n",
       "4          6      1.661     -0.516  "
      ]
     },
     "execution_count": 3,
     "metadata": {},
     "output_type": "execute_result"
    }
   ],
   "source": [
    "data = pystrat.read_data('example-data/data_template.csv', header=4)\n",
    "data.head()"
   ]
  },
  {
   "cell_type": "code",
   "execution_count": 4,
   "metadata": {},
   "outputs": [
    {
     "name": "stderr",
     "output_type": "stream",
     "text": [
      "/Users/yuempark/GitHub/pystrat/pystrat/pystrat.py:49: UserWarning: Thickness data contains NaNs. These rows will be automatically removed, but you should check to make sure that this is appropriate for your dataset.\n",
      "  warnings.warn('Thickness data contains NaNs. These rows will be '\n",
      "/Users/yuempark/GitHub/pystrat/pystrat/pystrat.py:56: UserWarning: Facies data contains NaNs. These rows will be automatically removed, but you should check to make sure that this is appropriate for your dataset.\n",
      "  warnings.warn('Facies data contains NaNs. These rows will be '\n"
     ]
    }
   ],
   "source": [
    "test = pystrat.Section(data['THICKNESS'], data['LITHOLOGY'])"
   ]
  },
  {
   "cell_type": "code",
   "execution_count": null,
   "metadata": {},
   "outputs": [],
   "source": []
  },
  {
   "cell_type": "code",
   "execution_count": null,
   "metadata": {},
   "outputs": [],
   "source": []
  },
  {
   "cell_type": "code",
   "execution_count": null,
   "metadata": {},
   "outputs": [],
   "source": [
    "np.isnan(data['LITHOLOGY'].values)"
   ]
  },
  {
   "cell_type": "code",
   "execution_count": null,
   "metadata": {},
   "outputs": [],
   "source": []
  },
  {
   "cell_type": "code",
   "execution_count": null,
   "metadata": {},
   "outputs": [],
   "source": []
  },
  {
   "cell_type": "markdown",
   "metadata": {},
   "source": [
    "# Needs Review\n",
    "\n",
    "Due to the new OOP system."
   ]
  },
  {
   "cell_type": "markdown",
   "metadata": {},
   "source": [
    "## Plot a Stratigraphic Section\n",
    "\n",
    "Import the data - note that it must follow the formatting of `data_template.csv`. The data .csv must contain at least two headers: one of these headers MUST be named 'THICKNESS'. Other columns may be named whatever the user desires.\n",
    "\n",
    "pystrat functions used:\n",
    "\n",
    "* `read_data`"
   ]
  },
  {
   "cell_type": "code",
   "execution_count": null,
   "metadata": {},
   "outputs": [],
   "source": [
    "data = read_data('templates/data_template.csv', header=4)\n",
    "data.head()"
   ]
  },
  {
   "cell_type": "markdown",
   "metadata": {},
   "source": [
    "Import the formatting - note that it must follow the formatting of `formatting_template.csv`:\n",
    "\n",
    "* Columns 1-4 are used to set the colour of the boxes\n",
    "    * columns 1-3 must be called `r`, `g`, and `b` (for red, green, and blue), and values in columns 1-3 must be between 0-255\n",
    "    * the header of column 4 must match one of the headers used in the data .csv, and all values in the data must be a subset of the values in this column\n",
    "* Columns 6-7 are used to set the width of the boxes\n",
    "    * column 6 must be called `width`\n",
    "    * the header of column 7 must match one of the headers used in the data .csv, and all values in the data must be a subset of the values in this column\n",
    "    * column 5 should be left blank for readability.\n",
    "\n",
    "pystrat functions used:\n",
    "\n",
    "* `read_formatting`"
   ]
  },
  {
   "cell_type": "code",
   "execution_count": null,
   "metadata": {},
   "outputs": [],
   "source": [
    "formatting = read_formatting('templates/formatting_template.csv')"
   ]
  },
  {
   "cell_type": "markdown",
   "metadata": {},
   "source": [
    "Integrity check - check that values in the data are a subset of values in the formatting:\n",
    "\n",
    "pystrat functions used:\n",
    "\n",
    "* `integrity_check`"
   ]
  },
  {
   "cell_type": "code",
   "execution_count": null,
   "metadata": {},
   "outputs": [],
   "source": [
    "integrity_check(data, formatting)"
   ]
  },
  {
   "cell_type": "markdown",
   "metadata": {},
   "source": [
    "Plot:\n",
    "\n",
    "pystrat functions used:\n",
    "\n",
    "* `initiate_figure`\n",
    "* `add_data_axis`"
   ]
  },
  {
   "cell_type": "code",
   "execution_count": null,
   "metadata": {},
   "outputs": [],
   "source": [
    "# set up the strat ratio which sets the vertical scale of the section\n",
    "strat_ratio = 0.004\n",
    "\n",
    "# initiate the figure and set size\n",
    "fig, ax = initiate_figure(data, formatting, strat_ratio, figwidth=12,\n",
    "                          width_ratios=[1,1,1,1,0.5,0.5], linewidth=0.5)\n",
    "\n",
    "# add data for d13C\n",
    "add_data_axis(fig, ax, 2, data['CARB_d13C'], data['CARB_HEIGHT'], 'scatter')\n",
    "ax[2].set_xlabel('$\\delta^{13}$C')\n",
    "ax[2].set_xlim(-15,10)\n",
    "ax[2].set_xticks([-15,-10,-5,0,5,10])\n",
    "ax[2].xaxis.grid(ls='--')\n",
    "\n",
    "# add data for d18O\n",
    "add_data_axis(fig, ax, 3, data['CARB_d18O'], data['CARB_HEIGHT'], 'scatter',\n",
    "              color='orange')\n",
    "ax[3].set_xlabel('$\\delta^{18}$O')\n",
    "ax[3].set_xlim(-20,5)\n",
    "ax[3].set_xticks([-20,-15,-10,-5,0,5])\n",
    "ax[3].xaxis.grid(ls='--')\n",
    "\n",
    "# add height of paleomag samples\n",
    "add_data_axis(fig, ax, 4, np.zeros(len(data['PM_HEIGHT'])), data['PM_HEIGHT'],\n",
    "              'scatter', color=[0.8, 0.2, 0.6])\n",
    "ax[4].set_xticks([])\n",
    "ax[4].set_title('pmag sites')\n",
    "\n",
    "# add height of ash samples\n",
    "add_data_axis(fig, ax, 5, np.zeros(len(data['ASH_HEIGHT'])), data['ASH_HEIGHT'],\n",
    "              'scatter', color='#AF4A34',marker='*')\n",
    "ax[5].set_xticks([])\n",
    "ax[5].set_title('ash')\n",
    "\n",
    "plt.show(fig)"
   ]
  },
  {
   "cell_type": "markdown",
   "metadata": {},
   "source": [
    "## LOWESS Fitting\n",
    "\n",
    "Locally weighted scatter plot smoothing. To perform the basic LOWESS:\n",
    "\n",
    "pystrat functions used:\n",
    "\n",
    "* `lowess_fit`"
   ]
  },
  {
   "cell_type": "code",
   "execution_count": null,
   "metadata": {},
   "outputs": [],
   "source": [
    "# the LOWESS fit\n",
    "height_LOWESS, d13C_LOWESS = lowess_fit(data['CARB_HEIGHT'], data['CARB_d13C'], frac=0.5)\n",
    "\n",
    "# plot the results\n",
    "fig, ax = plt.subplots(figsize=(10,3))\n",
    "\n",
    "ax.scatter(data['CARB_HEIGHT'], data['CARB_d13C'], c='C7', label='data')\n",
    "ax.plot(height_LOWESS, d13C_LOWESS, c='C1', lw=3, label='LOWESS')\n",
    "ax.yaxis.grid(ls='--')\n",
    "ax.set_xlabel('stratigraphic height [m]')\n",
    "ax.set_ylabel('$\\delta^{13}$C')\n",
    "ax.legend()\n",
    "\n",
    "plt.show(fig)"
   ]
  },
  {
   "cell_type": "markdown",
   "metadata": {},
   "source": [
    "To normalize the data against the LOWESS fit:\n",
    "\n",
    "pystrat functions used:\n",
    "\n",
    "* `lowess_normalize`"
   ]
  },
  {
   "cell_type": "code",
   "execution_count": null,
   "metadata": {},
   "outputs": [],
   "source": [
    "# the LOWESS fit\n",
    "height_LOWESS, d13C_LOWESS, d13C_norm = lowess_normalize(data['CARB_HEIGHT'], data['CARB_d13C'], frac=0.5)\n",
    "\n",
    "# plot the results\n",
    "fig, ax = plt.subplots(nrows=2, ncols=1, sharex=True, figsize=(10,7))\n",
    "\n",
    "ax[0].scatter(data['CARB_HEIGHT'], data['CARB_d13C'], c='C7', label='data')\n",
    "ax[0].plot(height_LOWESS, d13C_LOWESS, c='C1', lw=3, label='LOWESS')\n",
    "ax[0].yaxis.grid(ls='--')\n",
    "ax[0].set_ylabel('$\\delta^{13}$C')\n",
    "ax[0].legend()\n",
    "\n",
    "ax[1].scatter(data['CARB_HEIGHT'], d13C_norm, c='C1', label='normalized data')\n",
    "ax[1].yaxis.grid(ls='--')\n",
    "ax[1].set_ylabel('normalized $\\delta^{13}$C')\n",
    "ax[1].legend()\n",
    "\n",
    "plt.show(fig)"
   ]
  },
  {
   "cell_type": "markdown",
   "metadata": {},
   "source": [
    "## Calculate Stratigraphic Thickness\n",
    "\n",
    "Given the following for the start and end points, calculate a stratigraphic thickness between two points:\n",
    "\n",
    "* latitude (decimal degrees)\n",
    "* longitude (decimal degrees)\n",
    "* elevation (m)\n",
    "* strike of bedding (RHR)\n",
    "* dip of bedding\n",
    "\n",
    "pystrat functions used:\n",
    "\n",
    "* `calculate_stratigraphic_thickness`"
   ]
  },
  {
   "cell_type": "code",
   "execution_count": null,
   "metadata": {},
   "outputs": [],
   "source": [
    "# the data\n",
    "lat = (28.00181863, 28.00386025)\n",
    "lon = (108.7997006, 108.8009878)\n",
    "elev = (1159, 1167)\n",
    "strike = (342, 335)\n",
    "dip = (41, 36)\n",
    "\n",
    "d = calculate_stratigraphic_thickness(lat, lon, elev, strike, dip)\n",
    "\n",
    "print('The stratigraphic distance between the two points is: ' + str(np.round(d,2)) + ' m')"
   ]
  },
  {
   "cell_type": "markdown",
   "metadata": {},
   "source": [
    "If you have a .csv with a number of stratigraphic thicknesses that need to be calculated, there is a function for that too. Note that the .csv must follow the formatting of `covers_template.csv`:\n",
    "\n",
    "pystrat functions used:\n",
    "\n",
    "* `calculate_stratigraphic_thickness_csv`"
   ]
  },
  {
   "cell_type": "code",
   "execution_count": null,
   "metadata": {},
   "outputs": [],
   "source": [
    "covers = calculate_stratigraphic_thickness_csv('templates/covers_template.csv')\n",
    "covers"
   ]
  },
  {
   "cell_type": "markdown",
   "metadata": {},
   "source": [
    "## Calculate Distance to Specified Units\n",
    "\n",
    "Calculate the closest stratigraphic distance of each sample to a set of units:\n",
    "\n",
    "pystrat functions used:\n",
    "\n",
    "* `distance_to_units`"
   ]
  },
  {
   "cell_type": "code",
   "execution_count": null,
   "metadata": {},
   "outputs": [],
   "source": [
    "# let's say we are interested in seeing how close the samples are to either 'cover' or 'tuff' units\n",
    "units = ['cover', 'tuff']\n",
    "\n",
    "# the header of the column in 'data' in which to find the units in 'units'\n",
    "unit_header = 'GRAIN_SIZE'\n",
    "\n",
    "# run the function\n",
    "unit_d = distance_to_units(data, data['CARB_HEIGHT'], units, unit_header)"
   ]
  },
  {
   "cell_type": "markdown",
   "metadata": {},
   "source": [
    "We can plot the data, with samples within, say, 60cm of the specified units coloured differently:"
   ]
  },
  {
   "cell_type": "code",
   "execution_count": null,
   "metadata": {},
   "outputs": [],
   "source": [
    "# initiate the figure\n",
    "fig, ax = initiate_figure(data, formatting, strat_ratio, 6, [1,1], linewidth=0.5, features=False)\n",
    "\n",
    "# add data for d13C that is below the threshold\n",
    "add_data_axis(fig, ax, 1, data[unit_d<0.6]['CARB_d13C'], data[unit_d<0.6]['CARB_HEIGHT'], 'scatter',\n",
    "              color='C1', label='<60cm')\n",
    "\n",
    "# add data for d13C that is above the threshold\n",
    "add_data_axis(fig, ax, 1, data[unit_d>=0.6]['CARB_d13C'], data[unit_d>=0.6]['CARB_HEIGHT'], 'scatter',\n",
    "              color='C7', label='>=60cm')\n",
    "\n",
    "# prettify\n",
    "ax[1].set_xlabel('$\\delta^{13}$C')\n",
    "ax[1].set_xlim(-15,10)\n",
    "ax[1].set_xticks([-15,-10,-5,0,5,10])\n",
    "ax[1].xaxis.grid(ls='--')\n",
    "ax[1].legend()\n",
    "\n",
    "plt.show(fig)"
   ]
  },
  {
   "cell_type": "markdown",
   "metadata": {},
   "source": [
    "## Assign Units to Samples\n",
    "\n",
    "The functionality described here is useful if the user wishes to assign a stratigraphic unit (taken from the data .csv) to collected samples. This function also corrects for addition/subtraction errors made in the field, and assigns the correct stratigraphic height to collected samples.\n",
    "\n",
    "Note that this function has been designed specifically around sample collection/logging conventions used in the Swanson-Hysell Group, and may not apply if your conventions differ:\n",
    "\n",
    "* the `recorded_height` parameter is the height of each sample as recorded in the field\n",
    "* the `remarks` parameter is used to denote calculation errors made in the field\n",
    "    * if the true height of the sample is X m above the recorded height, write `ADD X`\n",
    "    * if the true height of the sample is X m below the recorded height, write `SUB X`\n",
    "    * these corrections only need to be noted at the first sample where the correction comes into effect (i.e. it will apply to all following samples until a new remark is found)\n",
    "    \n",
    "Below is an example of the recommended way to apply these functions:\n",
    "\n",
    "pystrat functions used:\n",
    "\n",
    "* `sample_curate`"
   ]
  },
  {
   "cell_type": "code",
   "execution_count": null,
   "metadata": {},
   "outputs": [],
   "source": [
    "# do the calculations\n",
    "data_sample_info = sample_curate(data, data['CARB_SAMPLE'], data['CARB_REMARKS'])"
   ]
  },
  {
   "cell_type": "markdown",
   "metadata": {},
   "source": [
    "The code will flag samples that are on unit boundaries by adding 0.5 to the unit number. User input is required to correctly identify which unit these samples belong to:\n",
    "\n",
    "* if the sample comes from the lower unit, subtract 0.5\n",
    "* if the sample comes from the upper unit, add 0.5\n",
    "\n",
    "To make this manual process easier, the following snippet of code prints the code necessary to make adjustments to the unit number:\n",
    "\n",
    "pystrat functions used:\n",
    "\n",
    "* `print_unit_edit_code`"
   ]
  },
  {
   "cell_type": "code",
   "execution_count": null,
   "metadata": {},
   "outputs": [],
   "source": [
    "# print the code needed to edit samples that are on unit boundaries\n",
    "print_unit_edit_code(data_sample_info, 'data_sample_info')\n",
    "\n",
    "# also show the recorded height and true height of these samples\n",
    "mask = (data_sample_info['unit'] != np.floor(data_sample_info['unit']))\n",
    "data_sample_info[mask]"
   ]
  },
  {
   "cell_type": "markdown",
   "metadata": {},
   "source": [
    "Copy and paste the code that was printed by `print_unit_edit_code` into a new cell (as below), and edit the unit numbers as appropriate:"
   ]
  },
  {
   "cell_type": "code",
   "execution_count": null,
   "metadata": {
    "scrolled": false
   },
   "outputs": [],
   "source": [
    "data_sample_info.loc[101,'unit'] = 77\n",
    "data_sample_info.loc[120,'unit'] = 81\n",
    "data_sample_info.loc[257,'unit'] = 126"
   ]
  },
  {
   "cell_type": "markdown",
   "metadata": {},
   "source": [
    "To save the correct height and sample unit to the original data .csv, you can simply copy and paste the output table to the original data .csv:"
   ]
  },
  {
   "cell_type": "code",
   "execution_count": null,
   "metadata": {
    "scrolled": true
   },
   "outputs": [],
   "source": [
    "pd.set_option(\"display.max_rows\",9999)\n",
    "data_sample_info"
   ]
  }
 ],
 "metadata": {
  "kernelspec": {
   "display_name": "Python 3",
   "language": "python",
   "name": "python3"
  },
  "language_info": {
   "codemirror_mode": {
    "name": "ipython",
    "version": 3
   },
   "file_extension": ".py",
   "mimetype": "text/x-python",
   "name": "python",
   "nbconvert_exporter": "python",
   "pygments_lexer": "ipython3",
   "version": "3.7.6"
  },
  "toc": {
   "base_numbering": 1,
   "nav_menu": {
    "height": "120px",
    "width": "252px"
   },
   "number_sections": false,
   "sideBar": true,
   "skip_h1_title": false,
   "title_cell": "Table of Contents",
   "title_sidebar": "Contents",
   "toc_cell": false,
   "toc_position": {
    "height": "648px",
    "left": "0px",
    "right": "1282px",
    "top": "111px",
    "width": "158px"
   },
   "toc_section_display": "block",
   "toc_window_display": true
  }
 },
 "nbformat": 4,
 "nbformat_minor": 2
}
