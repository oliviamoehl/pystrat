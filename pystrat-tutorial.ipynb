{
 "cells": [
  {
   "cell_type": "markdown",
   "metadata": {},
   "source": [
    "# pystrat-tutorial\n",
    "\n",
    "This Jupyter notebook is intended to demonstrate core *pystrat* functionality.\n",
    "\n",
    "The *pystrat* package is available here: https://github.com/yuempark/pystrat\n",
    "\n",
    "Note that all data used in this notebook is modified or fabricated for instructional purposes, and does not accurately reflect real collected data."
   ]
  },
  {
   "cell_type": "markdown",
   "metadata": {},
   "source": [
    "*A note on figure workflows:*\n",
    "\n",
    "You can save any figure by adding the following line before the `plt.show()` command:\n",
    "\n",
    "```python\n",
    "plt.savefig('<name_of_figure>.pdf')\n",
    "```\n",
    "\n",
    "The format of the saved figure is specified with the extension of the file name (example above uses pdf).\n",
    "\n",
    "By default, matplotlib exports figures with all labels and text annotations converted to vector paths. However, it is often preferable to preserve these as text objects so that font, font size, etc. can easily be manipulated when importing the figure into Illustrator, for example. To do this, add one of the following lines (depending on your preferred format) to a new cell and execute it.\n",
    "\n",
    "```python\n",
    "matplotlib.rcParams['svg.fonttype'] = 'none'\n",
    "matplotlib.rcParams['pdf.fonttype'] = 42\n",
    "```"
   ]
  },
  {
   "cell_type": "code",
   "execution_count": 1,
   "metadata": {},
   "outputs": [],
   "source": [
    "# standard modules\n",
    "import pandas as pd\n",
    "import numpy as np\n",
    "import matplotlib.pyplot as plt\n",
    "\n",
    "# pystrat\n",
    "from pystrat import pystrat"
   ]
  },
  {
   "cell_type": "markdown",
   "metadata": {},
   "source": [
    "## Quick Start\n",
    "\n",
    "To come..."
   ]
  },
  {
   "cell_type": "markdown",
   "metadata": {},
   "source": [
    "## Organizing your Data"
   ]
  },
  {
   "cell_type": "markdown",
   "metadata": {},
   "source": [
    "**Read in the measured section.**\n",
    "\n",
    "In this case, the data is stored in a .csv:"
   ]
  },
  {
   "cell_type": "code",
   "execution_count": 2,
   "metadata": {},
   "outputs": [
    {
     "data": {
      "text/html": [
       "<div>\n",
       "<style scoped>\n",
       "    .dataframe tbody tr th:only-of-type {\n",
       "        vertical-align: middle;\n",
       "    }\n",
       "\n",
       "    .dataframe tbody tr th {\n",
       "        vertical-align: top;\n",
       "    }\n",
       "\n",
       "    .dataframe thead th {\n",
       "        text-align: right;\n",
       "    }\n",
       "</style>\n",
       "<table border=\"1\" class=\"dataframe\">\n",
       "  <thead>\n",
       "    <tr style=\"text-align: right;\">\n",
       "      <th></th>\n",
       "      <th>THICKNESS</th>\n",
       "      <th>FACIES</th>\n",
       "      <th>LITHOLOGY</th>\n",
       "      <th>COLOR</th>\n",
       "      <th>FEATURES</th>\n",
       "    </tr>\n",
       "  </thead>\n",
       "  <tbody>\n",
       "    <tr>\n",
       "      <th>0</th>\n",
       "      <td>14.8</td>\n",
       "      <td>sts</td>\n",
       "      <td>si</td>\n",
       "      <td>purple</td>\n",
       "      <td>NaN</td>\n",
       "    </tr>\n",
       "    <tr>\n",
       "      <th>1</th>\n",
       "      <td>0.2</td>\n",
       "      <td>tuff</td>\n",
       "      <td>tuff</td>\n",
       "      <td>tuff</td>\n",
       "      <td>NaN</td>\n",
       "    </tr>\n",
       "    <tr>\n",
       "      <th>2</th>\n",
       "      <td>1.5</td>\n",
       "      <td>sts</td>\n",
       "      <td>si</td>\n",
       "      <td>purple</td>\n",
       "      <td>NaN</td>\n",
       "    </tr>\n",
       "    <tr>\n",
       "      <th>3</th>\n",
       "      <td>4.8</td>\n",
       "      <td>cover</td>\n",
       "      <td>cover</td>\n",
       "      <td>cover</td>\n",
       "      <td>NaN</td>\n",
       "    </tr>\n",
       "    <tr>\n",
       "      <th>4</th>\n",
       "      <td>3.7</td>\n",
       "      <td>sts</td>\n",
       "      <td>si</td>\n",
       "      <td>purple</td>\n",
       "      <td>NaN</td>\n",
       "    </tr>\n",
       "  </tbody>\n",
       "</table>\n",
       "</div>"
      ],
      "text/plain": [
       "   THICKNESS FACIES LITHOLOGY   COLOR FEATURES\n",
       "0       14.8    sts        si  purple      NaN\n",
       "1        0.2   tuff      tuff    tuff      NaN\n",
       "2        1.5    sts        si  purple      NaN\n",
       "3        4.8  cover     cover   cover      NaN\n",
       "4        3.7    sts        si  purple      NaN"
      ]
     },
     "execution_count": 2,
     "metadata": {},
     "output_type": "execute_result"
    }
   ],
   "source": [
    "litho = pd.read_csv('example-data/lithostratigraphy.csv')\n",
    "litho.head()"
   ]
  },
  {
   "cell_type": "markdown",
   "metadata": {},
   "source": [
    "---\n",
    "**Initialize a `Section` object.**\n",
    "\n",
    "A measured stratigraphic section is fundamentally comprised of discrete units, each with a their own stratigraphic thickness and facies. *pystrat* and the `Section` object is built upon this fundamental framework.\n",
    "\n",
    "Therefore, we initialize the `Section` object with the stratigraphic thicknesses and facies of these units, extracted from the pandas dataframe we read in above:"
   ]
  },
  {
   "cell_type": "code",
   "execution_count": 3,
   "metadata": {},
   "outputs": [],
   "source": [
    "section_01 = pystrat.Section(litho['THICKNESS'], litho['FACIES'])"
   ]
  },
  {
   "cell_type": "markdown",
   "metadata": {},
   "source": [
    "---\n",
    "**Access `Section` attributes.**\n",
    "\n",
    "*pystrat* takes advantage of object oriented programming (OOP). After initialization, a `Section` object will automatically have a few basic attributes:\n",
    "\n",
    "* `thicknesses`\n",
    "    * stratigraphic thicknesses of each unit\n",
    "* `facies`\n",
    "    * facies of each unit\n",
    "* `n_units`\n",
    "    * number of units\n",
    "* `total_thickness`\n",
    "    * total stratigraphic thickness\n",
    "* `base_height`\n",
    "    * cumulative stratigraphic height at the base of each unit\n",
    "* `unique_facies`\n",
    "    * unique facies\n",
    "* `n_unique_facies`\n",
    "    * number of unique facies\n",
    "* `facies_attributes`\n",
    "    * names of attributes associated with the stratigraphic units\n",
    "* `data_attributes`\n",
    "    * names of attributes associated with the cumulative stratigraphic height (see below)\n",
    "* `generic_attributes`\n",
    "    * names of generic attributes associated with neither the cumulative stratigraphic height nor the stratigraphic units (see below)\n",
    "    \n",
    "These attributes can be accessed in the following way:"
   ]
  },
  {
   "cell_type": "code",
   "execution_count": 4,
   "metadata": {},
   "outputs": [
    {
     "data": {
      "text/plain": [
       "2435.5"
      ]
     },
     "execution_count": 4,
     "metadata": {},
     "output_type": "execute_result"
    }
   ],
   "source": [
    "section_01.total_thickness"
   ]
  },
  {
   "cell_type": "markdown",
   "metadata": {},
   "source": [
    "---\n",
    "**Add attributes associated with the stratigraphic units.**\n",
    "\n",
    "Often, there will be additional data associated with the units in the stratigraphic section.\n",
    "\n",
    "We can add an arbitrary number of such attributes using the `add_facies_attribute()` method:"
   ]
  },
  {
   "cell_type": "code",
   "execution_count": 5,
   "metadata": {},
   "outputs": [],
   "source": [
    "section_01.add_facies_attribute('lithology', litho['LITHOLOGY'])\n",
    "section_01.add_facies_attribute('color', litho['COLOR'])\n",
    "section_01.add_facies_attribute('features', litho['FEATURES'])"
   ]
  },
  {
   "cell_type": "markdown",
   "metadata": {},
   "source": [
    "Again, these attributes can then be accessed in the following way (slicing out the first 5 values for illustrative purposes):"
   ]
  },
  {
   "cell_type": "code",
   "execution_count": 6,
   "metadata": {},
   "outputs": [
    {
     "data": {
      "text/plain": [
       "array(['purple', 'tuff', 'purple', 'cover', 'purple'], dtype=object)"
      ]
     },
     "execution_count": 6,
     "metadata": {},
     "output_type": "execute_result"
    }
   ],
   "source": [
    "section_01.color[:5]"
   ]
  },
  {
   "cell_type": "markdown",
   "metadata": {},
   "source": [
    "---\n",
    "**Recover attributes associated with the stratigraphic units.**\n",
    "\n",
    "The attributes associated with the stratigraphic units can be easily recovered using the `return_facies_dataframe()` method:"
   ]
  },
  {
   "cell_type": "code",
   "execution_count": 7,
   "metadata": {
    "scrolled": false
   },
   "outputs": [
    {
     "data": {
      "text/html": [
       "<div>\n",
       "<style scoped>\n",
       "    .dataframe tbody tr th:only-of-type {\n",
       "        vertical-align: middle;\n",
       "    }\n",
       "\n",
       "    .dataframe tbody tr th {\n",
       "        vertical-align: top;\n",
       "    }\n",
       "\n",
       "    .dataframe thead th {\n",
       "        text-align: right;\n",
       "    }\n",
       "</style>\n",
       "<table border=\"1\" class=\"dataframe\">\n",
       "  <thead>\n",
       "    <tr style=\"text-align: right;\">\n",
       "      <th></th>\n",
       "      <th>unit_number</th>\n",
       "      <th>thicknesses</th>\n",
       "      <th>base_height</th>\n",
       "      <th>facies</th>\n",
       "      <th>lithology</th>\n",
       "      <th>color</th>\n",
       "      <th>features</th>\n",
       "    </tr>\n",
       "  </thead>\n",
       "  <tbody>\n",
       "    <tr>\n",
       "      <th>0</th>\n",
       "      <td>0</td>\n",
       "      <td>14.8</td>\n",
       "      <td>0.0</td>\n",
       "      <td>sts</td>\n",
       "      <td>si</td>\n",
       "      <td>purple</td>\n",
       "      <td>NaN</td>\n",
       "    </tr>\n",
       "    <tr>\n",
       "      <th>1</th>\n",
       "      <td>1</td>\n",
       "      <td>0.2</td>\n",
       "      <td>14.8</td>\n",
       "      <td>tuff</td>\n",
       "      <td>tuff</td>\n",
       "      <td>tuff</td>\n",
       "      <td>NaN</td>\n",
       "    </tr>\n",
       "    <tr>\n",
       "      <th>2</th>\n",
       "      <td>2</td>\n",
       "      <td>1.5</td>\n",
       "      <td>15.0</td>\n",
       "      <td>sts</td>\n",
       "      <td>si</td>\n",
       "      <td>purple</td>\n",
       "      <td>NaN</td>\n",
       "    </tr>\n",
       "    <tr>\n",
       "      <th>3</th>\n",
       "      <td>3</td>\n",
       "      <td>4.8</td>\n",
       "      <td>16.5</td>\n",
       "      <td>cover</td>\n",
       "      <td>cover</td>\n",
       "      <td>cover</td>\n",
       "      <td>NaN</td>\n",
       "    </tr>\n",
       "    <tr>\n",
       "      <th>4</th>\n",
       "      <td>4</td>\n",
       "      <td>3.7</td>\n",
       "      <td>21.3</td>\n",
       "      <td>sts</td>\n",
       "      <td>si</td>\n",
       "      <td>purple</td>\n",
       "      <td>NaN</td>\n",
       "    </tr>\n",
       "  </tbody>\n",
       "</table>\n",
       "</div>"
      ],
      "text/plain": [
       "   unit_number  thicknesses  base_height facies lithology   color features\n",
       "0            0         14.8          0.0    sts        si  purple      NaN\n",
       "1            1          0.2         14.8   tuff      tuff    tuff      NaN\n",
       "2            2          1.5         15.0    sts        si  purple      NaN\n",
       "3            3          4.8         16.5  cover     cover   cover      NaN\n",
       "4            4          3.7         21.3    sts        si  purple      NaN"
      ]
     },
     "execution_count": 7,
     "metadata": {},
     "output_type": "execute_result"
    }
   ],
   "source": [
    "facies_dataframe = section_01.return_facies_dataframe()\n",
    "facies_dataframe.head()"
   ]
  },
  {
   "cell_type": "markdown",
   "metadata": {},
   "source": [
    "---\n",
    "**Add attributes associated with the cumulative stratigraphic height.**\n",
    "\n",
    "Often, there will also be data tied to the cumulative stratigraphic height rather than the stratigraphic units. *pystrat* organizes such data using the `Data` subclass.\n",
    "\n",
    "A typical example of such an attribute would be chemostratigraphic data. Here, we read in some chemostratigraphic data:"
   ]
  },
  {
   "cell_type": "code",
   "execution_count": 8,
   "metadata": {},
   "outputs": [
    {
     "data": {
      "text/html": [
       "<div>\n",
       "<style scoped>\n",
       "    .dataframe tbody tr th:only-of-type {\n",
       "        vertical-align: middle;\n",
       "    }\n",
       "\n",
       "    .dataframe tbody tr th {\n",
       "        vertical-align: top;\n",
       "    }\n",
       "\n",
       "    .dataframe thead th {\n",
       "        text-align: right;\n",
       "    }\n",
       "</style>\n",
       "<table border=\"1\" class=\"dataframe\">\n",
       "  <thead>\n",
       "    <tr style=\"text-align: right;\">\n",
       "      <th></th>\n",
       "      <th>CARB_SAMPLE</th>\n",
       "      <th>CARB_HEIGHT</th>\n",
       "      <th>CARB_d13C</th>\n",
       "      <th>CARB_d18O</th>\n",
       "    </tr>\n",
       "  </thead>\n",
       "  <tbody>\n",
       "    <tr>\n",
       "      <th>0</th>\n",
       "      <td>sample_001</td>\n",
       "      <td>1.5</td>\n",
       "      <td>0.766</td>\n",
       "      <td>-0.814</td>\n",
       "    </tr>\n",
       "    <tr>\n",
       "      <th>1</th>\n",
       "      <td>sample_002</td>\n",
       "      <td>5.6</td>\n",
       "      <td>1.737</td>\n",
       "      <td>0.893</td>\n",
       "    </tr>\n",
       "    <tr>\n",
       "      <th>2</th>\n",
       "      <td>sample_003</td>\n",
       "      <td>12.0</td>\n",
       "      <td>1.882</td>\n",
       "      <td>0.732</td>\n",
       "    </tr>\n",
       "    <tr>\n",
       "      <th>3</th>\n",
       "      <td>sample_004</td>\n",
       "      <td>21.4</td>\n",
       "      <td>1.398</td>\n",
       "      <td>-0.682</td>\n",
       "    </tr>\n",
       "    <tr>\n",
       "      <th>4</th>\n",
       "      <td>sample_005</td>\n",
       "      <td>25.5</td>\n",
       "      <td>1.661</td>\n",
       "      <td>-0.516</td>\n",
       "    </tr>\n",
       "  </tbody>\n",
       "</table>\n",
       "</div>"
      ],
      "text/plain": [
       "  CARB_SAMPLE  CARB_HEIGHT  CARB_d13C  CARB_d18O\n",
       "0  sample_001          1.5      0.766     -0.814\n",
       "1  sample_002          5.6      1.737      0.893\n",
       "2  sample_003         12.0      1.882      0.732\n",
       "3  sample_004         21.4      1.398     -0.682\n",
       "4  sample_005         25.5      1.661     -0.516"
      ]
     },
     "execution_count": 8,
     "metadata": {},
     "output_type": "execute_result"
    }
   ],
   "source": [
    "chemo = pd.read_csv('example-data/chemostratigraphy.csv')\n",
    "chemo.head()"
   ]
  },
  {
   "cell_type": "markdown",
   "metadata": {},
   "source": [
    "Add the $\\delta^{13}$C data using the `add_data_attribute()` method:"
   ]
  },
  {
   "cell_type": "code",
   "execution_count": 9,
   "metadata": {},
   "outputs": [],
   "source": [
    "section_01.add_data_attribute('d13C', chemo['CARB_HEIGHT'], chemo['CARB_d13C'])"
   ]
  },
  {
   "cell_type": "markdown",
   "metadata": {},
   "source": [
    "This will create a `Data` subclass with the following attributes:\n",
    "\n",
    "* `height`\n",
    "    * stratigraphic height of the data\n",
    "* `values`\n",
    "    * values of the data\n",
    "* `n_values`\n",
    "    * number of values\n",
    "* `height_attributes`\n",
    "    * names of attributes associated with this array of stratigraphic heights\n",
    "* `generic_attributes`\n",
    "    * names of generic attributes associated with this `Data` object\n",
    "    \n",
    "These attributes can be accessed in the following way:"
   ]
  },
  {
   "cell_type": "code",
   "execution_count": 10,
   "metadata": {},
   "outputs": [
    {
     "data": {
      "text/plain": [
       "275"
      ]
     },
     "execution_count": 10,
     "metadata": {},
     "output_type": "execute_result"
    }
   ],
   "source": [
    "section_01.d13C.n_values"
   ]
  },
  {
   "cell_type": "markdown",
   "metadata": {},
   "source": [
    "We can also add further attributes to this particular `Data` subclass using the `add_height_attribute()` method (for example, the sample names associated with the $\\delta^{13}$C data):"
   ]
  },
  {
   "cell_type": "code",
   "execution_count": 11,
   "metadata": {},
   "outputs": [],
   "source": [
    "section_01.d13C.add_height_attribute('sample', chemo['CARB_SAMPLE'])"
   ]
  },
  {
   "cell_type": "markdown",
   "metadata": {},
   "source": [
    "Again, we can access these new attributes in the following way (slicing out the first 5 values for illustrative purposes):"
   ]
  },
  {
   "cell_type": "code",
   "execution_count": 12,
   "metadata": {},
   "outputs": [
    {
     "data": {
      "text/plain": [
       "array(['sample_001', 'sample_002', 'sample_003', 'sample_004',\n",
       "       'sample_005'], dtype=object)"
      ]
     },
     "execution_count": 12,
     "metadata": {},
     "output_type": "execute_result"
    }
   ],
   "source": [
    "section_01.d13C.sample[:5]"
   ]
  },
  {
   "cell_type": "markdown",
   "metadata": {},
   "source": [
    "And we can recover them using the `return_data_dataframe()` method:"
   ]
  },
  {
   "cell_type": "code",
   "execution_count": 13,
   "metadata": {},
   "outputs": [
    {
     "data": {
      "text/html": [
       "<div>\n",
       "<style scoped>\n",
       "    .dataframe tbody tr th:only-of-type {\n",
       "        vertical-align: middle;\n",
       "    }\n",
       "\n",
       "    .dataframe tbody tr th {\n",
       "        vertical-align: top;\n",
       "    }\n",
       "\n",
       "    .dataframe thead th {\n",
       "        text-align: right;\n",
       "    }\n",
       "</style>\n",
       "<table border=\"1\" class=\"dataframe\">\n",
       "  <thead>\n",
       "    <tr style=\"text-align: right;\">\n",
       "      <th></th>\n",
       "      <th>height</th>\n",
       "      <th>values</th>\n",
       "      <th>sample</th>\n",
       "    </tr>\n",
       "  </thead>\n",
       "  <tbody>\n",
       "    <tr>\n",
       "      <th>0</th>\n",
       "      <td>1.5</td>\n",
       "      <td>0.766</td>\n",
       "      <td>sample_001</td>\n",
       "    </tr>\n",
       "    <tr>\n",
       "      <th>1</th>\n",
       "      <td>5.6</td>\n",
       "      <td>1.737</td>\n",
       "      <td>sample_002</td>\n",
       "    </tr>\n",
       "    <tr>\n",
       "      <th>2</th>\n",
       "      <td>12.0</td>\n",
       "      <td>1.882</td>\n",
       "      <td>sample_003</td>\n",
       "    </tr>\n",
       "    <tr>\n",
       "      <th>3</th>\n",
       "      <td>21.4</td>\n",
       "      <td>1.398</td>\n",
       "      <td>sample_004</td>\n",
       "    </tr>\n",
       "    <tr>\n",
       "      <th>4</th>\n",
       "      <td>25.5</td>\n",
       "      <td>1.661</td>\n",
       "      <td>sample_005</td>\n",
       "    </tr>\n",
       "  </tbody>\n",
       "</table>\n",
       "</div>"
      ],
      "text/plain": [
       "   height  values      sample\n",
       "0     1.5   0.766  sample_001\n",
       "1     5.6   1.737  sample_002\n",
       "2    12.0   1.882  sample_003\n",
       "3    21.4   1.398  sample_004\n",
       "4    25.5   1.661  sample_005"
      ]
     },
     "execution_count": 13,
     "metadata": {},
     "output_type": "execute_result"
    }
   ],
   "source": [
    "d13C_dataframe = section_01.d13C.return_data_dataframe()\n",
    "d13C_dataframe.head()"
   ]
  },
  {
   "cell_type": "markdown",
   "metadata": {},
   "source": [
    "We can follow the same workflow to add a separate dataset tied to the cumulative stratigraphic height - in this case geochronology samples:"
   ]
  },
  {
   "cell_type": "code",
   "execution_count": 14,
   "metadata": {},
   "outputs": [
    {
     "data": {
      "text/html": [
       "<div>\n",
       "<style scoped>\n",
       "    .dataframe tbody tr th:only-of-type {\n",
       "        vertical-align: middle;\n",
       "    }\n",
       "\n",
       "    .dataframe tbody tr th {\n",
       "        vertical-align: top;\n",
       "    }\n",
       "\n",
       "    .dataframe thead th {\n",
       "        text-align: right;\n",
       "    }\n",
       "</style>\n",
       "<table border=\"1\" class=\"dataframe\">\n",
       "  <thead>\n",
       "    <tr style=\"text-align: right;\">\n",
       "      <th></th>\n",
       "      <th>ASH_SAMPLE</th>\n",
       "      <th>ASH_HEIGHT</th>\n",
       "      <th>ASH_AGE</th>\n",
       "    </tr>\n",
       "  </thead>\n",
       "  <tbody>\n",
       "    <tr>\n",
       "      <th>0</th>\n",
       "      <td>ash_sample_04</td>\n",
       "      <td>138.3</td>\n",
       "      <td>850.0</td>\n",
       "    </tr>\n",
       "    <tr>\n",
       "      <th>1</th>\n",
       "      <td>ash_sample_05</td>\n",
       "      <td>159.4</td>\n",
       "      <td>NaN</td>\n",
       "    </tr>\n",
       "    <tr>\n",
       "      <th>2</th>\n",
       "      <td>ash_sample_06</td>\n",
       "      <td>462.4</td>\n",
       "      <td>NaN</td>\n",
       "    </tr>\n",
       "    <tr>\n",
       "      <th>3</th>\n",
       "      <td>ash_sample_07</td>\n",
       "      <td>470.0</td>\n",
       "      <td>810.0</td>\n",
       "    </tr>\n",
       "    <tr>\n",
       "      <th>4</th>\n",
       "      <td>ash_sample_01</td>\n",
       "      <td>911.7</td>\n",
       "      <td>NaN</td>\n",
       "    </tr>\n",
       "  </tbody>\n",
       "</table>\n",
       "</div>"
      ],
      "text/plain": [
       "      ASH_SAMPLE  ASH_HEIGHT  ASH_AGE\n",
       "0  ash_sample_04       138.3    850.0\n",
       "1  ash_sample_05       159.4      NaN\n",
       "2  ash_sample_06       462.4      NaN\n",
       "3  ash_sample_07       470.0    810.0\n",
       "4  ash_sample_01       911.7      NaN"
      ]
     },
     "execution_count": 14,
     "metadata": {},
     "output_type": "execute_result"
    }
   ],
   "source": [
    "geochron = pd.read_csv('example-data/geochronology.csv')\n",
    "geochron.head()"
   ]
  },
  {
   "cell_type": "code",
   "execution_count": 15,
   "metadata": {},
   "outputs": [],
   "source": [
    "section_01.add_data_attribute('ages', geochron['ASH_HEIGHT'], geochron['ASH_AGE'])\n",
    "section_01.ages.add_height_attribute('sample', geochron['ASH_SAMPLE'])"
   ]
  },
  {
   "cell_type": "markdown",
   "metadata": {},
   "source": [
    "---\n",
    "**Add generic attributes.**\n",
    "\n",
    "We can also add generic attributes to the `Section` that are neither tied to the cumulative stratigraphic height nor the stratigraphic units using the `add_generic_attribute()` method.\n",
    "\n",
    "For example, here we add an attribute that contains the stratigraphic formations that were measured in this section:"
   ]
  },
  {
   "cell_type": "code",
   "execution_count": 16,
   "metadata": {},
   "outputs": [
    {
     "data": {
      "text/plain": [
       "['Formation 1', 'Formation 2']"
      ]
     },
     "execution_count": 16,
     "metadata": {},
     "output_type": "execute_result"
    }
   ],
   "source": [
    "section_01.add_generic_attribute('formations', ['Formation 1','Formation 2'])\n",
    "section_01.formations"
   ]
  },
  {
   "cell_type": "markdown",
   "metadata": {},
   "source": [
    "## Setting the Styling\n",
    "\n",
    "To plot a stratigraphic section, the `Section` must be accompanied by a compatible `Style`. This `Style` class organizes the plotting style specified by the user.\n",
    "\n",
    "**Read in the styling.**\n",
    "\n",
    "In this case, the plotting style is specified in two .csv's, with the intention that the plotted color of the units will be based on the `color` attribute we added to the `Section`, and the plotted width of the units will be based on the `facies` attribute we added to the `Section`."
   ]
  },
  {
   "cell_type": "code",
   "execution_count": 17,
   "metadata": {},
   "outputs": [
    {
     "data": {
      "text/html": [
       "<div>\n",
       "<style scoped>\n",
       "    .dataframe tbody tr th:only-of-type {\n",
       "        vertical-align: middle;\n",
       "    }\n",
       "\n",
       "    .dataframe tbody tr th {\n",
       "        vertical-align: top;\n",
       "    }\n",
       "\n",
       "    .dataframe thead th {\n",
       "        text-align: right;\n",
       "    }\n",
       "</style>\n",
       "<table border=\"1\" class=\"dataframe\">\n",
       "  <thead>\n",
       "    <tr style=\"text-align: right;\">\n",
       "      <th></th>\n",
       "      <th>COLOR</th>\n",
       "      <th>r</th>\n",
       "      <th>g</th>\n",
       "      <th>b</th>\n",
       "    </tr>\n",
       "  </thead>\n",
       "  <tbody>\n",
       "    <tr>\n",
       "      <th>0</th>\n",
       "      <td>purple</td>\n",
       "      <td>200</td>\n",
       "      <td>134</td>\n",
       "      <td>210</td>\n",
       "    </tr>\n",
       "    <tr>\n",
       "      <th>1</th>\n",
       "      <td>tuff</td>\n",
       "      <td>255</td>\n",
       "      <td>211</td>\n",
       "      <td>220</td>\n",
       "    </tr>\n",
       "    <tr>\n",
       "      <th>2</th>\n",
       "      <td>cover</td>\n",
       "      <td>255</td>\n",
       "      <td>255</td>\n",
       "      <td>255</td>\n",
       "    </tr>\n",
       "    <tr>\n",
       "      <th>3</th>\n",
       "      <td>green</td>\n",
       "      <td>43</td>\n",
       "      <td>182</td>\n",
       "      <td>115</td>\n",
       "    </tr>\n",
       "    <tr>\n",
       "      <th>4</th>\n",
       "      <td>purple-green</td>\n",
       "      <td>130</td>\n",
       "      <td>170</td>\n",
       "      <td>255</td>\n",
       "    </tr>\n",
       "  </tbody>\n",
       "</table>\n",
       "</div>"
      ],
      "text/plain": [
       "          COLOR    r    g    b\n",
       "0        purple  200  134  210\n",
       "1          tuff  255  211  220\n",
       "2         cover  255  255  255\n",
       "3         green   43  182  115\n",
       "4  purple-green  130  170  255"
      ]
     },
     "execution_count": 17,
     "metadata": {},
     "output_type": "execute_result"
    }
   ],
   "source": [
    "color_style = pd.read_csv('example-data/color-style.csv')\n",
    "color_style.head()"
   ]
  },
  {
   "cell_type": "code",
   "execution_count": 18,
   "metadata": {},
   "outputs": [
    {
     "data": {
      "text/html": [
       "<div>\n",
       "<style scoped>\n",
       "    .dataframe tbody tr th:only-of-type {\n",
       "        vertical-align: middle;\n",
       "    }\n",
       "\n",
       "    .dataframe tbody tr th {\n",
       "        vertical-align: top;\n",
       "    }\n",
       "\n",
       "    .dataframe thead th {\n",
       "        text-align: right;\n",
       "    }\n",
       "</style>\n",
       "<table border=\"1\" class=\"dataframe\">\n",
       "  <thead>\n",
       "    <tr style=\"text-align: right;\">\n",
       "      <th></th>\n",
       "      <th>FACIES</th>\n",
       "      <th>width</th>\n",
       "    </tr>\n",
       "  </thead>\n",
       "  <tbody>\n",
       "    <tr>\n",
       "      <th>0</th>\n",
       "      <td>sts</td>\n",
       "      <td>0.30</td>\n",
       "    </tr>\n",
       "    <tr>\n",
       "      <th>1</th>\n",
       "      <td>tuff</td>\n",
       "      <td>1.00</td>\n",
       "    </tr>\n",
       "    <tr>\n",
       "      <th>2</th>\n",
       "      <td>cover</td>\n",
       "      <td>0.20</td>\n",
       "    </tr>\n",
       "    <tr>\n",
       "      <th>3</th>\n",
       "      <td>sts-tuff</td>\n",
       "      <td>0.30</td>\n",
       "    </tr>\n",
       "    <tr>\n",
       "      <th>4</th>\n",
       "      <td>sts-vfss</td>\n",
       "      <td>0.35</td>\n",
       "    </tr>\n",
       "  </tbody>\n",
       "</table>\n",
       "</div>"
      ],
      "text/plain": [
       "     FACIES  width\n",
       "0       sts   0.30\n",
       "1      tuff   1.00\n",
       "2     cover   0.20\n",
       "3  sts-tuff   0.30\n",
       "4  sts-vfss   0.35"
      ]
     },
     "execution_count": 18,
     "metadata": {},
     "output_type": "execute_result"
    }
   ],
   "source": [
    "width_style = pd.read_csv('example-data/width-style.csv')\n",
    "width_style.head()"
   ]
  },
  {
   "cell_type": "markdown",
   "metadata": {},
   "source": [
    "---\n",
    "**Initialize a `Style` object.**\n",
    "\n",
    "Values need to be assigned to six core attributes during initialization:\n",
    "\n",
    "* `color_attribute`\n",
    "    * `Section` attribute name from which the color labels are derived\n",
    "* `color_labels`\n",
    "    * the labels to which colors are assigned\n",
    "* `color_values`\n",
    "    * the colors that will be assigned to the associated labels\n",
    "* `width_attribute`\n",
    "    * `Section` attribute name from with the width labels are derived\n",
    "* `width_labels`\n",
    "    * the labels to which widths are assigned\n",
    "* `width_values`\n",
    "    * the widths that will be assigned to the associated labels\n",
    "    \n",
    "Note that:\n",
    "\n",
    "* `color_attribute` and `width_attribute` must be valid attributes within the `Section` you are trying to plot\n",
    "* the values within the associated `Section` attribute must form a subset of the `color_labels` and `width_labels`\n",
    "* `color_values` can take any form that is interpretable by *matplotlib* (in this example, we use RGB values)\n",
    "* `width_values` must be between 0 and 1\n",
    "* compatibility of a `Style` and a `Section` is not checked during initialization of a `Style`, since in practice many different `Section`s can utilize the same `Style`, but not all `Section`s have to use the same `Style`"
   ]
  },
  {
   "cell_type": "code",
   "execution_count": 19,
   "metadata": {},
   "outputs": [],
   "source": [
    "style_01 = pystrat.Style('color',color_style['COLOR'],color_style[['r','g','b']]/255,\n",
    "                         'facies',width_style['FACIES'],width_style['width'])"
   ]
  },
  {
   "cell_type": "markdown",
   "metadata": {},
   "source": [
    "---\n",
    "**Visualize the `Style`.**\n",
    "\n",
    "We can create a legend for any `Style` using the `plot_legend()` method:"
   ]
  },
  {
   "cell_type": "code",
   "execution_count": 20,
   "metadata": {
    "scrolled": false
   },
   "outputs": [
    {
     "data": {
      "image/png": "[encoded data removed]",
      "text/plain": [
       "<Figure size 288x403.2 with 2 Axes>"
      ]
     },
     "metadata": {
      "needs_background": "light"
     },
     "output_type": "display_data"
    }
   ],
   "source": [
    "fig, ax = style_01.plot_legend()\n",
    "\n",
    "plt.show(fig)"
   ]
  },
  {
   "cell_type": "markdown",
   "metadata": {},
   "source": [
    "## Plotting a Section\n",
    "\n",
    "**Check that the `Section` is compatible with the `Style`.**\n",
    "\n",
    "As described above, the `Style` must specify attributes and labels that are compatible with any given `Section`. The `section_style_compatibility()` function tests this compatibility:"
   ]
  },
  {
   "cell_type": "code",
   "execution_count": 21,
   "metadata": {},
   "outputs": [
    {
     "name": "stdout",
     "output_type": "stream",
     "text": [
      "Section and Style are compatible.\n"
     ]
    }
   ],
   "source": [
    "pystrat.section_style_compatibility(section_01, style_01)"
   ]
  },
  {
   "cell_type": "code",
   "execution_count": null,
   "metadata": {},
   "outputs": [],
   "source": []
  },
  {
   "cell_type": "code",
   "execution_count": null,
   "metadata": {},
   "outputs": [],
   "source": []
  },
  {
   "cell_type": "code",
   "execution_count": null,
   "metadata": {},
   "outputs": [],
   "source": []
  },
  {
   "cell_type": "code",
   "execution_count": null,
   "metadata": {},
   "outputs": [],
   "source": []
  },
  {
   "cell_type": "code",
   "execution_count": null,
   "metadata": {},
   "outputs": [],
   "source": []
  },
  {
   "cell_type": "code",
   "execution_count": null,
   "metadata": {},
   "outputs": [],
   "source": []
  },
  {
   "cell_type": "code",
   "execution_count": null,
   "metadata": {},
   "outputs": [],
   "source": []
  },
  {
   "cell_type": "code",
   "execution_count": null,
   "metadata": {},
   "outputs": [],
   "source": []
  },
  {
   "cell_type": "code",
   "execution_count": null,
   "metadata": {},
   "outputs": [],
   "source": []
  },
  {
   "cell_type": "markdown",
   "metadata": {},
   "source": [
    "# Needs Review\n",
    "\n",
    "Due to the new OOP system."
   ]
  },
  {
   "cell_type": "markdown",
   "metadata": {},
   "source": [
    "## Plot a Stratigraphic Section\n",
    "\n",
    "Import the data - note that it must follow the formatting of `data_template.csv`. The data .csv must contain at least two headers: one of these headers MUST be named 'THICKNESS'. Other columns may be named whatever the user desires.\n",
    "\n",
    "pystrat functions used:\n",
    "\n",
    "* `read_data`"
   ]
  },
  {
   "cell_type": "code",
   "execution_count": null,
   "metadata": {},
   "outputs": [],
   "source": [
    "data = read_data('templates/data_template.csv', header=4)\n",
    "data.head()"
   ]
  },
  {
   "cell_type": "markdown",
   "metadata": {},
   "source": [
    "Import the formatting - note that it must follow the formatting of `formatting_template.csv`:\n",
    "\n",
    "* Columns 1-4 are used to set the colour of the boxes\n",
    "    * columns 1-3 must be called `r`, `g`, and `b` (for red, green, and blue), and values in columns 1-3 must be between 0-255\n",
    "    * the header of column 4 must match one of the headers used in the data .csv, and all values in the data must be a subset of the values in this column\n",
    "* Columns 6-7 are used to set the width of the boxes\n",
    "    * column 6 must be called `width`\n",
    "    * the header of column 7 must match one of the headers used in the data .csv, and all values in the data must be a subset of the values in this column\n",
    "    * column 5 should be left blank for readability.\n",
    "\n",
    "pystrat functions used:\n",
    "\n",
    "* `read_formatting`"
   ]
  },
  {
   "cell_type": "code",
   "execution_count": null,
   "metadata": {},
   "outputs": [],
   "source": [
    "formatting = read_formatting('templates/formatting_template.csv')"
   ]
  },
  {
   "cell_type": "markdown",
   "metadata": {},
   "source": [
    "Integrity check - check that values in the data are a subset of values in the formatting:\n",
    "\n",
    "pystrat functions used:\n",
    "\n",
    "* `integrity_check`"
   ]
  },
  {
   "cell_type": "code",
   "execution_count": null,
   "metadata": {},
   "outputs": [],
   "source": [
    "integrity_check(data, formatting)"
   ]
  },
  {
   "cell_type": "markdown",
   "metadata": {},
   "source": [
    "Plot:\n",
    "\n",
    "pystrat functions used:\n",
    "\n",
    "* `initiate_figure`\n",
    "* `add_data_axis`"
   ]
  },
  {
   "cell_type": "code",
   "execution_count": null,
   "metadata": {},
   "outputs": [],
   "source": [
    "# set up the strat ratio which sets the vertical scale of the section\n",
    "strat_ratio = 0.004\n",
    "\n",
    "# initiate the figure and set size\n",
    "fig, ax = initiate_figure(data, formatting, strat_ratio, figwidth=12,\n",
    "                          width_ratios=[1,1,1,1,0.5,0.5], linewidth=0.5)\n",
    "\n",
    "# add data for d13C\n",
    "add_data_axis(fig, ax, 2, data['CARB_d13C'], data['CARB_HEIGHT'], 'scatter')\n",
    "ax[2].set_xlabel('$\\delta^{13}$C')\n",
    "ax[2].set_xlim(-15,10)\n",
    "ax[2].set_xticks([-15,-10,-5,0,5,10])\n",
    "ax[2].xaxis.grid(ls='--')\n",
    "\n",
    "# add data for d18O\n",
    "add_data_axis(fig, ax, 3, data['CARB_d18O'], data['CARB_HEIGHT'], 'scatter',\n",
    "              color='orange')\n",
    "ax[3].set_xlabel('$\\delta^{18}$O')\n",
    "ax[3].set_xlim(-20,5)\n",
    "ax[3].set_xticks([-20,-15,-10,-5,0,5])\n",
    "ax[3].xaxis.grid(ls='--')\n",
    "\n",
    "# add height of paleomag samples\n",
    "add_data_axis(fig, ax, 4, np.zeros(len(data['PM_HEIGHT'])), data['PM_HEIGHT'],\n",
    "              'scatter', color=[0.8, 0.2, 0.6])\n",
    "ax[4].set_xticks([])\n",
    "ax[4].set_title('pmag sites')\n",
    "\n",
    "# add height of ash samples\n",
    "add_data_axis(fig, ax, 5, np.zeros(len(data['ASH_HEIGHT'])), data['ASH_HEIGHT'],\n",
    "              'scatter', color='#AF4A34',marker='*')\n",
    "ax[5].set_xticks([])\n",
    "ax[5].set_title('ash')\n",
    "\n",
    "plt.show(fig)"
   ]
  },
  {
   "cell_type": "markdown",
   "metadata": {},
   "source": [
    "## LOWESS Fitting\n",
    "\n",
    "Locally weighted scatter plot smoothing. To perform the basic LOWESS:\n",
    "\n",
    "pystrat functions used:\n",
    "\n",
    "* `lowess_fit`"
   ]
  },
  {
   "cell_type": "code",
   "execution_count": null,
   "metadata": {},
   "outputs": [],
   "source": [
    "# the LOWESS fit\n",
    "height_LOWESS, d13C_LOWESS = lowess_fit(data['CARB_HEIGHT'], data['CARB_d13C'], frac=0.5)\n",
    "\n",
    "# plot the results\n",
    "fig, ax = plt.subplots(figsize=(10,3))\n",
    "\n",
    "ax.scatter(data['CARB_HEIGHT'], data['CARB_d13C'], c='C7', label='data')\n",
    "ax.plot(height_LOWESS, d13C_LOWESS, c='C1', lw=3, label='LOWESS')\n",
    "ax.yaxis.grid(ls='--')\n",
    "ax.set_xlabel('stratigraphic height [m]')\n",
    "ax.set_ylabel('$\\delta^{13}$C')\n",
    "ax.legend()\n",
    "\n",
    "plt.show(fig)"
   ]
  },
  {
   "cell_type": "markdown",
   "metadata": {},
   "source": [
    "To normalize the data against the LOWESS fit:\n",
    "\n",
    "pystrat functions used:\n",
    "\n",
    "* `lowess_normalize`"
   ]
  },
  {
   "cell_type": "code",
   "execution_count": null,
   "metadata": {},
   "outputs": [],
   "source": [
    "# the LOWESS fit\n",
    "height_LOWESS, d13C_LOWESS, d13C_norm = lowess_normalize(data['CARB_HEIGHT'], data['CARB_d13C'], frac=0.5)\n",
    "\n",
    "# plot the results\n",
    "fig, ax = plt.subplots(nrows=2, ncols=1, sharex=True, figsize=(10,7))\n",
    "\n",
    "ax[0].scatter(data['CARB_HEIGHT'], data['CARB_d13C'], c='C7', label='data')\n",
    "ax[0].plot(height_LOWESS, d13C_LOWESS, c='C1', lw=3, label='LOWESS')\n",
    "ax[0].yaxis.grid(ls='--')\n",
    "ax[0].set_ylabel('$\\delta^{13}$C')\n",
    "ax[0].legend()\n",
    "\n",
    "ax[1].scatter(data['CARB_HEIGHT'], d13C_norm, c='C1', label='normalized data')\n",
    "ax[1].yaxis.grid(ls='--')\n",
    "ax[1].set_ylabel('normalized $\\delta^{13}$C')\n",
    "ax[1].legend()\n",
    "\n",
    "plt.show(fig)"
   ]
  },
  {
   "cell_type": "markdown",
   "metadata": {},
   "source": [
    "## Calculate Stratigraphic Thickness\n",
    "\n",
    "Given the following for the start and end points, calculate a stratigraphic thickness between two points:\n",
    "\n",
    "* latitude (decimal degrees)\n",
    "* longitude (decimal degrees)\n",
    "* elevation (m)\n",
    "* strike of bedding (RHR)\n",
    "* dip of bedding\n",
    "\n",
    "pystrat functions used:\n",
    "\n",
    "* `calculate_stratigraphic_thickness`"
   ]
  },
  {
   "cell_type": "code",
   "execution_count": null,
   "metadata": {},
   "outputs": [],
   "source": [
    "# the data\n",
    "lat = (28.00181863, 28.00386025)\n",
    "lon = (108.7997006, 108.8009878)\n",
    "elev = (1159, 1167)\n",
    "strike = (342, 335)\n",
    "dip = (41, 36)\n",
    "\n",
    "d = calculate_stratigraphic_thickness(lat, lon, elev, strike, dip)\n",
    "\n",
    "print('The stratigraphic distance between the two points is: ' + str(np.round(d,2)) + ' m')"
   ]
  },
  {
   "cell_type": "markdown",
   "metadata": {},
   "source": [
    "If you have a .csv with a number of stratigraphic thicknesses that need to be calculated, there is a function for that too. Note that the .csv must follow the formatting of `covers_template.csv`:\n",
    "\n",
    "pystrat functions used:\n",
    "\n",
    "* `calculate_stratigraphic_thickness_csv`"
   ]
  },
  {
   "cell_type": "code",
   "execution_count": null,
   "metadata": {},
   "outputs": [],
   "source": [
    "covers = calculate_stratigraphic_thickness_csv('templates/covers_template.csv')\n",
    "covers"
   ]
  },
  {
   "cell_type": "markdown",
   "metadata": {},
   "source": [
    "## Calculate Distance to Specified Units\n",
    "\n",
    "Calculate the closest stratigraphic distance of each sample to a set of units:\n",
    "\n",
    "pystrat functions used:\n",
    "\n",
    "* `distance_to_units`"
   ]
  },
  {
   "cell_type": "code",
   "execution_count": null,
   "metadata": {},
   "outputs": [],
   "source": [
    "# let's say we are interested in seeing how close the samples are to either 'cover' or 'tuff' units\n",
    "units = ['cover', 'tuff']\n",
    "\n",
    "# the header of the column in 'data' in which to find the units in 'units'\n",
    "unit_header = 'GRAIN_SIZE'\n",
    "\n",
    "# run the function\n",
    "unit_d = distance_to_units(data, data['CARB_HEIGHT'], units, unit_header)"
   ]
  },
  {
   "cell_type": "markdown",
   "metadata": {},
   "source": [
    "We can plot the data, with samples within, say, 60cm of the specified units coloured differently:"
   ]
  },
  {
   "cell_type": "code",
   "execution_count": null,
   "metadata": {},
   "outputs": [],
   "source": [
    "# initiate the figure\n",
    "fig, ax = initiate_figure(data, formatting, strat_ratio, 6, [1,1], linewidth=0.5, features=False)\n",
    "\n",
    "# add data for d13C that is below the threshold\n",
    "add_data_axis(fig, ax, 1, data[unit_d<0.6]['CARB_d13C'], data[unit_d<0.6]['CARB_HEIGHT'], 'scatter',\n",
    "              color='C1', label='<60cm')\n",
    "\n",
    "# add data for d13C that is above the threshold\n",
    "add_data_axis(fig, ax, 1, data[unit_d>=0.6]['CARB_d13C'], data[unit_d>=0.6]['CARB_HEIGHT'], 'scatter',\n",
    "              color='C7', label='>=60cm')\n",
    "\n",
    "# prettify\n",
    "ax[1].set_xlabel('$\\delta^{13}$C')\n",
    "ax[1].set_xlim(-15,10)\n",
    "ax[1].set_xticks([-15,-10,-5,0,5,10])\n",
    "ax[1].xaxis.grid(ls='--')\n",
    "ax[1].legend()\n",
    "\n",
    "plt.show(fig)"
   ]
  },
  {
   "cell_type": "markdown",
   "metadata": {},
   "source": [
    "## Assign Units to Samples\n",
    "\n",
    "The functionality described here is useful if the user wishes to assign a stratigraphic unit (taken from the data .csv) to collected samples. This function also corrects for addition/subtraction errors made in the field, and assigns the correct stratigraphic height to collected samples.\n",
    "\n",
    "Note that this function has been designed specifically around sample collection/logging conventions used in the Swanson-Hysell Group, and may not apply if your conventions differ:\n",
    "\n",
    "* the `recorded_height` parameter is the height of each sample as recorded in the field\n",
    "* the `remarks` parameter is used to denote calculation errors made in the field\n",
    "    * if the true height of the sample is X m above the recorded height, write `ADD X`\n",
    "    * if the true height of the sample is X m below the recorded height, write `SUB X`\n",
    "    * these corrections only need to be noted at the first sample where the correction comes into effect (i.e. it will apply to all following samples until a new remark is found)\n",
    "    \n",
    "Below is an example of the recommended way to apply these functions:\n",
    "\n",
    "pystrat functions used:\n",
    "\n",
    "* `sample_curate`"
   ]
  },
  {
   "cell_type": "code",
   "execution_count": null,
   "metadata": {},
   "outputs": [],
   "source": [
    "# do the calculations\n",
    "data_sample_info = sample_curate(data, data['CARB_SAMPLE'], data['CARB_REMARKS'])"
   ]
  },
  {
   "cell_type": "markdown",
   "metadata": {},
   "source": [
    "The code will flag samples that are on unit boundaries by adding 0.5 to the unit number. User input is required to correctly identify which unit these samples belong to:\n",
    "\n",
    "* if the sample comes from the lower unit, subtract 0.5\n",
    "* if the sample comes from the upper unit, add 0.5\n",
    "\n",
    "To make this manual process easier, the following snippet of code prints the code necessary to make adjustments to the unit number:\n",
    "\n",
    "pystrat functions used:\n",
    "\n",
    "* `print_unit_edit_code`"
   ]
  },
  {
   "cell_type": "code",
   "execution_count": null,
   "metadata": {},
   "outputs": [],
   "source": [
    "# print the code needed to edit samples that are on unit boundaries\n",
    "print_unit_edit_code(data_sample_info, 'data_sample_info')\n",
    "\n",
    "# also show the recorded height and true height of these samples\n",
    "mask = (data_sample_info['unit'] != np.floor(data_sample_info['unit']))\n",
    "data_sample_info[mask]"
   ]
  },
  {
   "cell_type": "markdown",
   "metadata": {},
   "source": [
    "Copy and paste the code that was printed by `print_unit_edit_code` into a new cell (as below), and edit the unit numbers as appropriate:"
   ]
  },
  {
   "cell_type": "code",
   "execution_count": null,
   "metadata": {
    "scrolled": false
   },
   "outputs": [],
   "source": [
    "data_sample_info.loc[101,'unit'] = 77\n",
    "data_sample_info.loc[120,'unit'] = 81\n",
    "data_sample_info.loc[257,'unit'] = 126"
   ]
  },
  {
   "cell_type": "markdown",
   "metadata": {},
   "source": [
    "To save the correct height and sample unit to the original data .csv, you can simply copy and paste the output table to the original data .csv:"
   ]
  },
  {
   "cell_type": "code",
   "execution_count": null,
   "metadata": {
    "scrolled": true
   },
   "outputs": [],
   "source": [
    "pd.set_option(\"display.max_rows\",9999)\n",
    "data_sample_info"
   ]
  }
 ],
 "metadata": {
  "kernelspec": {
   "display_name": "Python 3",
   "language": "python",
   "name": "python3"
  },
  "language_info": {
   "codemirror_mode": {
    "name": "ipython",
    "version": 3
   },
   "file_extension": ".py",
   "mimetype": "text/x-python",
   "name": "python",
   "nbconvert_exporter": "python",
   "pygments_lexer": "ipython3",
   "version": "3.7.6"
  },
  "toc": {
   "base_numbering": 1,
   "nav_menu": {
    "height": "120px",
    "width": "252px"
   },
   "number_sections": false,
   "sideBar": true,
   "skip_h1_title": false,
   "title_cell": "Table of Contents",
   "title_sidebar": "Contents",
   "toc_cell": false,
   "toc_position": {
    "height": "648px",
    "left": "0px",
    "right": "1282px",
    "top": "111px",
    "width": "158px"
   },
   "toc_section_display": "block",
   "toc_window_display": false
  }
 },
 "nbformat": 4,
 "nbformat_minor": 2
}
