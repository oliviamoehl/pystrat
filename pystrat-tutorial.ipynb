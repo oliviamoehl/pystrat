{
 "cells": [
  {
   "cell_type": "markdown",
   "metadata": {},
   "source": [
    "# pystrat-tutorial\n",
    "\n",
    "This Jupyter notebook is intended to demonstrate core *pystrat* functionality.\n",
    "\n",
    "The *pystrat* package is available here: https://github.com/yuempark/pystrat\n",
    "\n",
    "The data used for demonstration purposes in this notebook comes from a stratigraphic section measured in the Tonian-Cryogenian Tambien Group of northern Ethiopia. The significance of the Tambien Group for understanding Neoproterozoic Earth history is currently detailed in the following three studies:\n",
    "\n",
    "* Swanson-Hysell, N.L., Maloof, A.C., Condon, D.J., Jenkin, G.R., Alene, M., Tremblay, M.M., Tesema, T., Rooney, A.D., and Haileab, B., 2015, Stratigraphy and geochronology of the Tambien Group, Ethiopia: Evidence for globally synchronous carbon isotope change in the Neoproterozoic: Geology, v. 43, p. 323-326, https://doi.org/10.1130/G36347.1.\n",
    "\n",
    "* MacLennan, S.A., Park, Y., Swanson-Hysell, N.L., Maloof, A.C., Schoene, B., Gebreslassie, M., Antilla, E., Tesema, T., Alene, M., and Haileab, B., 2018, The arc of the Snowball: U-Pb dates constrain the Islay anomaly and the initiation of the Sturtian glaciation: Geology, v. 46, p. 539-542, https://doi.org/10.1130/G40171.1.\n",
    "\n",
    "* Park, Y., Swanson-Hysell, N.L., MacLennan, S.A., Maloof, A.C., Gebreslassie, M., Tremblay, M.M., Schoene, B., Alene, M., Anttila, E.S.C., Tesema, T., Condon, D.J., Haileab, B., 2019, The lead-up to the Sturtian Snowball Earth: Neoproterozoic chemostratigraphy time-calibrated by the Tambien Group of Ethiopia: GSA Bulletin, vol. TBD, pp. TBD, https://doi.org/10.1130/B35178.1"
   ]
  },
  {
   "cell_type": "code",
   "execution_count": 1,
   "metadata": {},
   "outputs": [],
   "source": [
    "# standard modules\n",
    "import pandas as pd\n",
    "import numpy as np\n",
    "import matplotlib.pyplot as plt\n",
    "\n",
    "# pystrat\n",
    "from pystrat import pystrat"
   ]
  },
  {
   "cell_type": "markdown",
   "metadata": {},
   "source": [
    "## Quick Start\n",
    "\n",
    "If you'd just like get your stratigraphic section plotted up quickly, the code below will get you started (provided that your data is set up appropriately). For a more in-depth description of *pystrat* functionality and advanced features, refer to the [Advanced Tutorial](#Advanced-Tutorial) section."
   ]
  },
  {
   "cell_type": "code",
   "execution_count": 2,
   "metadata": {},
   "outputs": [
    {
     "data": {
      "image/png": "[encoded data removed]",
      "text/plain": [
       "<Figure size 144x711.36 with 1 Axes>"
      ]
     },
     "metadata": {
      "needs_background": "light"
     },
     "output_type": "display_data"
    }
   ],
   "source": [
    "# read in your lithostratigraphy data\n",
    "litho = pd.read_csv('example-data/lithostratigraphy.csv')\n",
    "\n",
    "# read in your styling files\n",
    "color_style = pd.read_csv('example-data/color-style.csv')\n",
    "width_style = pd.read_csv('example-data/width-style.csv')\n",
    "\n",
    "# create a pystrat Section from the lithostratigraphy data\n",
    "section_01 = pystrat.Section(litho['THICKNESS'], litho['FACIES'])\n",
    "\n",
    "# create a pystrat Style from the styling files\n",
    "style_01 = pystrat.Style('facies',color_style['COLOR'],color_style[['r','g','b']]/255,\n",
    "                         'facies',width_style['FACIES'],width_style['width'],\n",
    "                         0.075, 1)\n",
    "\n",
    "# plot the Section using the Style\n",
    "fig, ax = pystrat.plot_stratigraphy(section_01, style_01)\n",
    "plt.show(fig)"
   ]
  },
  {
   "cell_type": "markdown",
   "metadata": {},
   "source": [
    "**A note on figure workflows:**\n",
    "\n",
    "You can save any figure by adding the following line before the `plt.show()` command:\n",
    "\n",
    "```python\n",
    "plt.savefig('<name_of_figure>.pdf', bbox_inches='tight')\n",
    "```\n",
    "\n",
    "The format of the saved figure is specified with the extension of the file name (example above uses pdf).\n",
    "\n",
    "The `bbox_inches` keyword argument ensures that the figure will not be cropped upon saving.\n",
    "\n",
    "By default, *matplotlib* exports figures with all labels and text annotations converted to vector paths. However, it is often preferable to preserve these as text objects so that font, font size, etc. can easily be manipulated when importing the figure into vector-editing software. To do this, add one of the following lines (depending on your preferred format) to a new cell and execute it.\n",
    "\n",
    "```python\n",
    "matplotlib.rcParams['svg.fonttype'] = 'none'\n",
    "matplotlib.rcParams['pdf.fonttype'] = 42\n",
    "```"
   ]
  },
  {
   "cell_type": "markdown",
   "metadata": {},
   "source": [
    "## Advanced Tutorial\n",
    "\n",
    "*pystrat* strives to take advantage of object-oriented programming (OOP) by organizing stratigraphic data into [classes](https://docs.python.org/3/tutorial/classes.html).\n",
    "\n",
    "The core class upon which this package is built is the `Section` class, which organizes the measured stratigraphic log (i.e. the thicknesses and facies of units).\n",
    "\n",
    "Any additional data that is tied to the stratigraphic height, but not explicitly tied to the individually measured units, is organized in the `Data` subclass.\n",
    "\n",
    "The plotting style for a stratigraphic section is organized in the `Style` class.\n",
    "\n",
    "The image below illustrates this class hierarchy:\n",
    "\n",
    "<img src=\"./images/class-hierarchy.png\" width=\"500\">"
   ]
  },
  {
   "cell_type": "markdown",
   "metadata": {},
   "source": [
    "### Organizing your Data"
   ]
  },
  {
   "cell_type": "markdown",
   "metadata": {},
   "source": [
    "---\n",
    "\n",
    "**Read in the measured section.**\n",
    "\n",
    "In this case, the data is stored in a .csv:"
   ]
  },
  {
   "cell_type": "code",
   "execution_count": 3,
   "metadata": {},
   "outputs": [
    {
     "data": {
      "text/html": [
       "<div>\n",
       "<style scoped>\n",
       "    .dataframe tbody tr th:only-of-type {\n",
       "        vertical-align: middle;\n",
       "    }\n",
       "\n",
       "    .dataframe tbody tr th {\n",
       "        vertical-align: top;\n",
       "    }\n",
       "\n",
       "    .dataframe thead th {\n",
       "        text-align: right;\n",
       "    }\n",
       "</style>\n",
       "<table border=\"1\" class=\"dataframe\">\n",
       "  <thead>\n",
       "    <tr style=\"text-align: right;\">\n",
       "      <th></th>\n",
       "      <th>THICKNESS</th>\n",
       "      <th>FACIES</th>\n",
       "      <th>LITHOLOGY</th>\n",
       "    </tr>\n",
       "  </thead>\n",
       "  <tbody>\n",
       "    <tr>\n",
       "      <th>0</th>\n",
       "      <td>4.9</td>\n",
       "      <td>recrystallized</td>\n",
       "      <td>dolomite</td>\n",
       "    </tr>\n",
       "    <tr>\n",
       "      <th>1</th>\n",
       "      <td>1.8</td>\n",
       "      <td>ribbonite-siltstone</td>\n",
       "      <td>dolomite</td>\n",
       "    </tr>\n",
       "    <tr>\n",
       "      <th>2</th>\n",
       "      <td>0.8</td>\n",
       "      <td>ribbonite</td>\n",
       "      <td>dolomite</td>\n",
       "    </tr>\n",
       "    <tr>\n",
       "      <th>3</th>\n",
       "      <td>0.7</td>\n",
       "      <td>ribbonite-siltstone</td>\n",
       "      <td>dolomite</td>\n",
       "    </tr>\n",
       "    <tr>\n",
       "      <th>4</th>\n",
       "      <td>1.4</td>\n",
       "      <td>ribbonite</td>\n",
       "      <td>dolomite</td>\n",
       "    </tr>\n",
       "  </tbody>\n",
       "</table>\n",
       "</div>"
      ],
      "text/plain": [
       "   THICKNESS               FACIES LITHOLOGY\n",
       "0        4.9       recrystallized  dolomite\n",
       "1        1.8  ribbonite-siltstone  dolomite\n",
       "2        0.8            ribbonite  dolomite\n",
       "3        0.7  ribbonite-siltstone  dolomite\n",
       "4        1.4            ribbonite  dolomite"
      ]
     },
     "execution_count": 3,
     "metadata": {},
     "output_type": "execute_result"
    }
   ],
   "source": [
    "litho = pd.read_csv('example-data/lithostratigraphy.csv')\n",
    "litho.head()"
   ]
  },
  {
   "cell_type": "markdown",
   "metadata": {},
   "source": [
    "---\n",
    "**Initialize a `Section` object.**\n",
    "\n",
    "A measured stratigraphic section is fundamentally comprised of discrete units, each with a their own stratigraphic thickness and facies. *pystrat* and the `Section` object is built upon this fundamental framework.\n",
    "\n",
    "Therefore, we initialize the `Section` object with the stratigraphic thicknesses and facies of these units, extracted from the pandas dataframe we read in above:"
   ]
  },
  {
   "cell_type": "code",
   "execution_count": 4,
   "metadata": {},
   "outputs": [],
   "source": [
    "section_01 = pystrat.Section(litho['THICKNESS'], litho['FACIES'])"
   ]
  },
  {
   "cell_type": "markdown",
   "metadata": {},
   "source": [
    "---\n",
    "**Access `Section` attributes.**\n",
    "\n",
    "*pystrat* takes advantage of object-oriented programming (OOP). After initialization, a `Section` object will automatically have a few basic attributes:\n",
    "\n",
    "* `thicknesses`\n",
    "    * stratigraphic thicknesses of each unit\n",
    "* `facies`\n",
    "    * facies of each unit\n",
    "* `n_units`\n",
    "    * number of units\n",
    "* `total_thickness`\n",
    "    * total stratigraphic thickness\n",
    "* `base_height`\n",
    "    * stratigraphic height at the base of each unit\n",
    "* `unique_facies`\n",
    "    * unique facies\n",
    "* `n_unique_facies`\n",
    "    * number of unique facies\n",
    "* `facies_attributes`\n",
    "    * names of attributes associated with the stratigraphic units\n",
    "* `data_attributes`\n",
    "    * names of attributes associated with the stratigraphic height (see below)\n",
    "* `generic_attributes`\n",
    "    * names of generic attributes associated with neither the stratigraphic height nor the stratigraphic units (see below)\n",
    "    \n",
    "These attributes can be accessed in the following way:"
   ]
  },
  {
   "cell_type": "code",
   "execution_count": 5,
   "metadata": {},
   "outputs": [
    {
     "data": {
      "text/plain": [
       "118.4"
      ]
     },
     "execution_count": 5,
     "metadata": {},
     "output_type": "execute_result"
    }
   ],
   "source": [
    "section_01.total_thickness"
   ]
  },
  {
   "cell_type": "markdown",
   "metadata": {},
   "source": [
    "---\n",
    "**Add attributes associated with the stratigraphic units.**\n",
    "\n",
    "Often, there will be additional data associated with the units in the stratigraphic section.\n",
    "\n",
    "We can add an arbitrary number of such attributes using the `add_facies_attribute()` method:"
   ]
  },
  {
   "cell_type": "code",
   "execution_count": 6,
   "metadata": {},
   "outputs": [],
   "source": [
    "section_01.add_facies_attribute('lithology', litho['LITHOLOGY'])"
   ]
  },
  {
   "cell_type": "markdown",
   "metadata": {},
   "source": [
    "Again, these attributes can then be accessed in the following way (slicing out the first 5 values for illustrative purposes):"
   ]
  },
  {
   "cell_type": "code",
   "execution_count": 7,
   "metadata": {},
   "outputs": [
    {
     "data": {
      "text/plain": [
       "array(['dolomite', 'dolomite', 'dolomite', 'dolomite', 'dolomite'],\n",
       "      dtype=object)"
      ]
     },
     "execution_count": 7,
     "metadata": {},
     "output_type": "execute_result"
    }
   ],
   "source": [
    "section_01.lithology[:5]"
   ]
  },
  {
   "cell_type": "markdown",
   "metadata": {},
   "source": [
    "---\n",
    "**Recover attributes associated with the stratigraphic units.**\n",
    "\n",
    "The attributes associated with the stratigraphic units can be easily recovered using the `return_facies_dataframe()` method:"
   ]
  },
  {
   "cell_type": "code",
   "execution_count": 8,
   "metadata": {
    "scrolled": false
   },
   "outputs": [
    {
     "data": {
      "text/html": [
       "<div>\n",
       "<style scoped>\n",
       "    .dataframe tbody tr th:only-of-type {\n",
       "        vertical-align: middle;\n",
       "    }\n",
       "\n",
       "    .dataframe tbody tr th {\n",
       "        vertical-align: top;\n",
       "    }\n",
       "\n",
       "    .dataframe thead th {\n",
       "        text-align: right;\n",
       "    }\n",
       "</style>\n",
       "<table border=\"1\" class=\"dataframe\">\n",
       "  <thead>\n",
       "    <tr style=\"text-align: right;\">\n",
       "      <th></th>\n",
       "      <th>unit_number</th>\n",
       "      <th>thicknesses</th>\n",
       "      <th>base_height</th>\n",
       "      <th>facies</th>\n",
       "      <th>lithology</th>\n",
       "    </tr>\n",
       "  </thead>\n",
       "  <tbody>\n",
       "    <tr>\n",
       "      <th>0</th>\n",
       "      <td>0</td>\n",
       "      <td>4.9</td>\n",
       "      <td>0.0</td>\n",
       "      <td>recrystallized</td>\n",
       "      <td>dolomite</td>\n",
       "    </tr>\n",
       "    <tr>\n",
       "      <th>1</th>\n",
       "      <td>1</td>\n",
       "      <td>1.8</td>\n",
       "      <td>4.9</td>\n",
       "      <td>ribbonite-siltstone</td>\n",
       "      <td>dolomite</td>\n",
       "    </tr>\n",
       "    <tr>\n",
       "      <th>2</th>\n",
       "      <td>2</td>\n",
       "      <td>0.8</td>\n",
       "      <td>6.7</td>\n",
       "      <td>ribbonite</td>\n",
       "      <td>dolomite</td>\n",
       "    </tr>\n",
       "    <tr>\n",
       "      <th>3</th>\n",
       "      <td>3</td>\n",
       "      <td>0.7</td>\n",
       "      <td>7.5</td>\n",
       "      <td>ribbonite-siltstone</td>\n",
       "      <td>dolomite</td>\n",
       "    </tr>\n",
       "    <tr>\n",
       "      <th>4</th>\n",
       "      <td>4</td>\n",
       "      <td>1.4</td>\n",
       "      <td>8.2</td>\n",
       "      <td>ribbonite</td>\n",
       "      <td>dolomite</td>\n",
       "    </tr>\n",
       "  </tbody>\n",
       "</table>\n",
       "</div>"
      ],
      "text/plain": [
       "   unit_number  thicknesses  base_height               facies lithology\n",
       "0            0          4.9          0.0       recrystallized  dolomite\n",
       "1            1          1.8          4.9  ribbonite-siltstone  dolomite\n",
       "2            2          0.8          6.7            ribbonite  dolomite\n",
       "3            3          0.7          7.5  ribbonite-siltstone  dolomite\n",
       "4            4          1.4          8.2            ribbonite  dolomite"
      ]
     },
     "execution_count": 8,
     "metadata": {},
     "output_type": "execute_result"
    }
   ],
   "source": [
    "facies_dataframe = section_01.return_facies_dataframe()\n",
    "facies_dataframe.head()"
   ]
  },
  {
   "cell_type": "markdown",
   "metadata": {},
   "source": [
    "---\n",
    "**Add attributes associated with the stratigraphic height.**\n",
    "\n",
    "Often, there will also be data tied to the stratigraphic height rather than the stratigraphic units. *pystrat* organizes such data using the `Data` subclass.\n",
    "\n",
    "A typical example of such an attribute would be chemostratigraphic data. Here, we read in some chemostratigraphic data:"
   ]
  },
  {
   "cell_type": "code",
   "execution_count": 9,
   "metadata": {},
   "outputs": [
    {
     "data": {
      "text/html": [
       "<div>\n",
       "<style scoped>\n",
       "    .dataframe tbody tr th:only-of-type {\n",
       "        vertical-align: middle;\n",
       "    }\n",
       "\n",
       "    .dataframe tbody tr th {\n",
       "        vertical-align: top;\n",
       "    }\n",
       "\n",
       "    .dataframe thead th {\n",
       "        text-align: right;\n",
       "    }\n",
       "</style>\n",
       "<table border=\"1\" class=\"dataframe\">\n",
       "  <thead>\n",
       "    <tr style=\"text-align: right;\">\n",
       "      <th></th>\n",
       "      <th>CARB_SAMPLE</th>\n",
       "      <th>CARB_HEIGHT</th>\n",
       "      <th>CARB_d13C</th>\n",
       "      <th>CARB_d18O</th>\n",
       "      <th>CARB_87Sr/86Sr</th>\n",
       "      <th>CARB_Al_ppm</th>\n",
       "      <th>CARB_Ca_ppm</th>\n",
       "      <th>CARB_Fe_ppm</th>\n",
       "      <th>CARB_Mg_ppm</th>\n",
       "      <th>CARB_Mn_ppm</th>\n",
       "      <th>CARB_Sr_ppm</th>\n",
       "    </tr>\n",
       "  </thead>\n",
       "  <tbody>\n",
       "    <tr>\n",
       "      <th>0</th>\n",
       "      <td>T46-1.2</td>\n",
       "      <td>1.2</td>\n",
       "      <td>1.820429</td>\n",
       "      <td>0.130692</td>\n",
       "      <td>NaN</td>\n",
       "      <td>682.46931</td>\n",
       "      <td>313906.3927</td>\n",
       "      <td>293.408791</td>\n",
       "      <td>197499.6646</td>\n",
       "      <td>443.552746</td>\n",
       "      <td>539.226752</td>\n",
       "    </tr>\n",
       "    <tr>\n",
       "      <th>1</th>\n",
       "      <td>T46-2.1</td>\n",
       "      <td>2.1</td>\n",
       "      <td>1.597633</td>\n",
       "      <td>0.134841</td>\n",
       "      <td>NaN</td>\n",
       "      <td>NaN</td>\n",
       "      <td>NaN</td>\n",
       "      <td>NaN</td>\n",
       "      <td>NaN</td>\n",
       "      <td>NaN</td>\n",
       "      <td>NaN</td>\n",
       "    </tr>\n",
       "    <tr>\n",
       "      <th>2</th>\n",
       "      <td>T46-3.8</td>\n",
       "      <td>3.8</td>\n",
       "      <td>0.102096</td>\n",
       "      <td>-0.195867</td>\n",
       "      <td>NaN</td>\n",
       "      <td>NaN</td>\n",
       "      <td>NaN</td>\n",
       "      <td>NaN</td>\n",
       "      <td>NaN</td>\n",
       "      <td>NaN</td>\n",
       "      <td>NaN</td>\n",
       "    </tr>\n",
       "    <tr>\n",
       "      <th>3</th>\n",
       "      <td>T46-5.9</td>\n",
       "      <td>5.9</td>\n",
       "      <td>1.090520</td>\n",
       "      <td>-1.066232</td>\n",
       "      <td>NaN</td>\n",
       "      <td>NaN</td>\n",
       "      <td>NaN</td>\n",
       "      <td>NaN</td>\n",
       "      <td>NaN</td>\n",
       "      <td>NaN</td>\n",
       "      <td>NaN</td>\n",
       "    </tr>\n",
       "    <tr>\n",
       "      <th>4</th>\n",
       "      <td>T46-7.1</td>\n",
       "      <td>7.1</td>\n",
       "      <td>2.194324</td>\n",
       "      <td>-0.630248</td>\n",
       "      <td>NaN</td>\n",
       "      <td>NaN</td>\n",
       "      <td>NaN</td>\n",
       "      <td>NaN</td>\n",
       "      <td>NaN</td>\n",
       "      <td>NaN</td>\n",
       "      <td>NaN</td>\n",
       "    </tr>\n",
       "  </tbody>\n",
       "</table>\n",
       "</div>"
      ],
      "text/plain": [
       "  CARB_SAMPLE  CARB_HEIGHT  CARB_d13C  CARB_d18O  CARB_87Sr/86Sr  CARB_Al_ppm  \\\n",
       "0     T46-1.2          1.2   1.820429   0.130692             NaN    682.46931   \n",
       "1     T46-2.1          2.1   1.597633   0.134841             NaN          NaN   \n",
       "2     T46-3.8          3.8   0.102096  -0.195867             NaN          NaN   \n",
       "3     T46-5.9          5.9   1.090520  -1.066232             NaN          NaN   \n",
       "4     T46-7.1          7.1   2.194324  -0.630248             NaN          NaN   \n",
       "\n",
       "   CARB_Ca_ppm  CARB_Fe_ppm  CARB_Mg_ppm  CARB_Mn_ppm  CARB_Sr_ppm  \n",
       "0  313906.3927   293.408791  197499.6646   443.552746   539.226752  \n",
       "1          NaN          NaN          NaN          NaN          NaN  \n",
       "2          NaN          NaN          NaN          NaN          NaN  \n",
       "3          NaN          NaN          NaN          NaN          NaN  \n",
       "4          NaN          NaN          NaN          NaN          NaN  "
      ]
     },
     "execution_count": 9,
     "metadata": {},
     "output_type": "execute_result"
    }
   ],
   "source": [
    "chemo = pd.read_csv('example-data/chemostratigraphy.csv')\n",
    "chemo.head()"
   ]
  },
  {
   "cell_type": "markdown",
   "metadata": {},
   "source": [
    "Add the $\\delta^{13}$C data using the `add_data_attribute()` method:"
   ]
  },
  {
   "cell_type": "code",
   "execution_count": 10,
   "metadata": {},
   "outputs": [],
   "source": [
    "section_01.add_data_attribute('d13C', chemo['CARB_HEIGHT'], chemo['CARB_d13C'])"
   ]
  },
  {
   "cell_type": "markdown",
   "metadata": {},
   "source": [
    "This will create a `Data` subclass with the following attributes:\n",
    "\n",
    "* `height`\n",
    "    * stratigraphic height of the data\n",
    "* `values`\n",
    "    * values of the data\n",
    "* `n_values`\n",
    "    * number of values\n",
    "* `height_attributes`\n",
    "    * names of attributes associated with this array of stratigraphic heights\n",
    "* `generic_attributes`\n",
    "    * names of generic attributes associated with this `Data` object\n",
    "    \n",
    "These attributes can be accessed in the following way:"
   ]
  },
  {
   "cell_type": "code",
   "execution_count": 11,
   "metadata": {},
   "outputs": [
    {
     "data": {
      "text/plain": [
       "82"
      ]
     },
     "execution_count": 11,
     "metadata": {},
     "output_type": "execute_result"
    }
   ],
   "source": [
    "section_01.d13C.n_values"
   ]
  },
  {
   "cell_type": "markdown",
   "metadata": {},
   "source": [
    "We can also add further attributes to this particular `Data` subclass using the `add_height_attribute()` method (for example, the sample names associated with the $\\delta^{13}$C data):"
   ]
  },
  {
   "cell_type": "code",
   "execution_count": 12,
   "metadata": {},
   "outputs": [],
   "source": [
    "section_01.d13C.add_height_attribute('sample', chemo['CARB_SAMPLE'])"
   ]
  },
  {
   "cell_type": "markdown",
   "metadata": {},
   "source": [
    "Again, we can access these new attributes in the following way (slicing out the first 5 values for illustrative purposes):"
   ]
  },
  {
   "cell_type": "code",
   "execution_count": 13,
   "metadata": {},
   "outputs": [
    {
     "data": {
      "text/plain": [
       "array(['T46-1.2', 'T46-2.1', 'T46-3.8', 'T46-5.9', 'T46-7.1'],\n",
       "      dtype=object)"
      ]
     },
     "execution_count": 13,
     "metadata": {},
     "output_type": "execute_result"
    }
   ],
   "source": [
    "section_01.d13C.sample[:5]"
   ]
  },
  {
   "cell_type": "markdown",
   "metadata": {},
   "source": [
    "And we can recover them using the `return_data_dataframe()` method:"
   ]
  },
  {
   "cell_type": "code",
   "execution_count": 14,
   "metadata": {},
   "outputs": [
    {
     "data": {
      "text/html": [
       "<div>\n",
       "<style scoped>\n",
       "    .dataframe tbody tr th:only-of-type {\n",
       "        vertical-align: middle;\n",
       "    }\n",
       "\n",
       "    .dataframe tbody tr th {\n",
       "        vertical-align: top;\n",
       "    }\n",
       "\n",
       "    .dataframe thead th {\n",
       "        text-align: right;\n",
       "    }\n",
       "</style>\n",
       "<table border=\"1\" class=\"dataframe\">\n",
       "  <thead>\n",
       "    <tr style=\"text-align: right;\">\n",
       "      <th></th>\n",
       "      <th>height</th>\n",
       "      <th>values</th>\n",
       "      <th>sample</th>\n",
       "    </tr>\n",
       "  </thead>\n",
       "  <tbody>\n",
       "    <tr>\n",
       "      <th>0</th>\n",
       "      <td>1.2</td>\n",
       "      <td>1.820429</td>\n",
       "      <td>T46-1.2</td>\n",
       "    </tr>\n",
       "    <tr>\n",
       "      <th>1</th>\n",
       "      <td>2.1</td>\n",
       "      <td>1.597633</td>\n",
       "      <td>T46-2.1</td>\n",
       "    </tr>\n",
       "    <tr>\n",
       "      <th>2</th>\n",
       "      <td>3.8</td>\n",
       "      <td>0.102096</td>\n",
       "      <td>T46-3.8</td>\n",
       "    </tr>\n",
       "    <tr>\n",
       "      <th>3</th>\n",
       "      <td>5.9</td>\n",
       "      <td>1.090520</td>\n",
       "      <td>T46-5.9</td>\n",
       "    </tr>\n",
       "    <tr>\n",
       "      <th>4</th>\n",
       "      <td>7.1</td>\n",
       "      <td>2.194324</td>\n",
       "      <td>T46-7.1</td>\n",
       "    </tr>\n",
       "  </tbody>\n",
       "</table>\n",
       "</div>"
      ],
      "text/plain": [
       "   height    values   sample\n",
       "0     1.2  1.820429  T46-1.2\n",
       "1     2.1  1.597633  T46-2.1\n",
       "2     3.8  0.102096  T46-3.8\n",
       "3     5.9  1.090520  T46-5.9\n",
       "4     7.1  2.194324  T46-7.1"
      ]
     },
     "execution_count": 14,
     "metadata": {},
     "output_type": "execute_result"
    }
   ],
   "source": [
    "d13C_dataframe = section_01.d13C.return_data_dataframe()\n",
    "d13C_dataframe.head()"
   ]
  },
  {
   "cell_type": "markdown",
   "metadata": {},
   "source": [
    "We can follow the same workflow to add the rest of the chemostratigraphic data:"
   ]
  },
  {
   "cell_type": "code",
   "execution_count": 15,
   "metadata": {},
   "outputs": [],
   "source": [
    "# d18O\n",
    "section_01.add_data_attribute('d18O', chemo['CARB_HEIGHT'], chemo['CARB_d18O'])\n",
    "section_01.d18O.add_height_attribute('sample', chemo['CARB_SAMPLE'])\n",
    "\n",
    "# 87Sr/86Sr\n",
    "section_01.add_data_attribute('Sr87Sr86', chemo['CARB_HEIGHT'], chemo['CARB_87Sr/86Sr'])\n",
    "section_01.Sr87Sr86.add_height_attribute('sample', chemo['CARB_SAMPLE'])\n",
    "\n",
    "# Al\n",
    "section_01.add_data_attribute('Al', chemo['CARB_HEIGHT'], chemo['CARB_Al_ppm'])\n",
    "section_01.Al.add_height_attribute('sample', chemo['CARB_SAMPLE'])\n",
    "\n",
    "# Ca\n",
    "section_01.add_data_attribute('Ca', chemo['CARB_HEIGHT'], chemo['CARB_Ca_ppm'])\n",
    "section_01.Ca.add_height_attribute('sample', chemo['CARB_SAMPLE'])\n",
    "\n",
    "# Fe\n",
    "section_01.add_data_attribute('Fe', chemo['CARB_HEIGHT'], chemo['CARB_Fe_ppm'])\n",
    "section_01.Fe.add_height_attribute('sample', chemo['CARB_SAMPLE'])\n",
    "\n",
    "# Mg\n",
    "section_01.add_data_attribute('Mg', chemo['CARB_HEIGHT'], chemo['CARB_Mg_ppm'])\n",
    "section_01.Mg.add_height_attribute('sample', chemo['CARB_SAMPLE'])\n",
    "\n",
    "# Mn\n",
    "section_01.add_data_attribute('Mn', chemo['CARB_HEIGHT'], chemo['CARB_Mn_ppm'])\n",
    "section_01.Mn.add_height_attribute('sample', chemo['CARB_SAMPLE'])\n",
    "\n",
    "# Sr\n",
    "section_01.add_data_attribute('Sr', chemo['CARB_HEIGHT'], chemo['CARB_Sr_ppm'])\n",
    "section_01.Sr.add_height_attribute('sample', chemo['CARB_SAMPLE'])"
   ]
  },
  {
   "cell_type": "markdown",
   "metadata": {},
   "source": [
    "We can also follow the same workflow to add a non-chemostratigraphic dataset tied to the stratigraphic height - in this case geochronology samples:"
   ]
  },
  {
   "cell_type": "code",
   "execution_count": 16,
   "metadata": {},
   "outputs": [
    {
     "data": {
      "text/html": [
       "<div>\n",
       "<style scoped>\n",
       "    .dataframe tbody tr th:only-of-type {\n",
       "        vertical-align: middle;\n",
       "    }\n",
       "\n",
       "    .dataframe tbody tr th {\n",
       "        vertical-align: top;\n",
       "    }\n",
       "\n",
       "    .dataframe thead th {\n",
       "        text-align: right;\n",
       "    }\n",
       "</style>\n",
       "<table border=\"1\" class=\"dataframe\">\n",
       "  <thead>\n",
       "    <tr style=\"text-align: right;\">\n",
       "      <th></th>\n",
       "      <th>ASH_SAMPLE</th>\n",
       "      <th>ASH_HEIGHT</th>\n",
       "      <th>ASH_AGE</th>\n",
       "      <th>ASH_AGE_2SIGMA</th>\n",
       "    </tr>\n",
       "  </thead>\n",
       "  <tbody>\n",
       "    <tr>\n",
       "      <th>0</th>\n",
       "      <td>T46-102.2z</td>\n",
       "      <td>102.2</td>\n",
       "      <td>735.25</td>\n",
       "      <td>0.25</td>\n",
       "    </tr>\n",
       "  </tbody>\n",
       "</table>\n",
       "</div>"
      ],
      "text/plain": [
       "   ASH_SAMPLE  ASH_HEIGHT  ASH_AGE  ASH_AGE_2SIGMA\n",
       "0  T46-102.2z       102.2   735.25            0.25"
      ]
     },
     "execution_count": 16,
     "metadata": {},
     "output_type": "execute_result"
    }
   ],
   "source": [
    "geochron = pd.read_csv('example-data/geochronology.csv')\n",
    "geochron.head()"
   ]
  },
  {
   "cell_type": "code",
   "execution_count": 17,
   "metadata": {},
   "outputs": [],
   "source": [
    "section_01.add_data_attribute('ages', geochron['ASH_HEIGHT'], geochron['ASH_AGE'])\n",
    "section_01.ages.add_height_attribute('sample', geochron['ASH_SAMPLE'])"
   ]
  },
  {
   "cell_type": "markdown",
   "metadata": {},
   "source": [
    "Remember that the names of all added attributes tied to the stratigraphic height can be accessed in the following way:"
   ]
  },
  {
   "cell_type": "code",
   "execution_count": 18,
   "metadata": {},
   "outputs": [
    {
     "data": {
      "text/plain": [
       "['d13C', 'd18O', 'Sr87Sr86', 'Al', 'Ca', 'Fe', 'Mg', 'Mn', 'Sr', 'ages']"
      ]
     },
     "execution_count": 18,
     "metadata": {},
     "output_type": "execute_result"
    }
   ],
   "source": [
    "section_01.data_attributes"
   ]
  },
  {
   "cell_type": "markdown",
   "metadata": {},
   "source": [
    "---\n",
    "**Add generic attributes.**\n",
    "\n",
    "We can also add generic attributes to the `Section` that are neither tied to the stratigraphic height nor the stratigraphic units using the `add_generic_attribute()` method.\n",
    "\n",
    "For example, here we add an attribute that contains the stratigraphic formations that were measured in this section:"
   ]
  },
  {
   "cell_type": "code",
   "execution_count": 19,
   "metadata": {},
   "outputs": [
    {
     "data": {
      "text/plain": [
       "['Didikama', 'Matheos']"
      ]
     },
     "execution_count": 19,
     "metadata": {},
     "output_type": "execute_result"
    }
   ],
   "source": [
    "section_01.add_generic_attribute('formations', ['Didikama','Matheos'])\n",
    "section_01.formations"
   ]
  },
  {
   "cell_type": "markdown",
   "metadata": {},
   "source": [
    "### Setting the Styling\n",
    "\n",
    "To plot a stratigraphic section, the `Section` must be accompanied by a compatible `Style`. This `Style` class organizes the plotting style specified by the user.\n",
    "\n",
    "**Read in the styling.**\n",
    "\n",
    "In this case, the plotting style is specified in two .csv's, with the intention that the plotted color of the units will be based on the `color` attribute we added to the `Section`, and the plotted width of the units will be based on the `facies` attribute we added to the `Section`."
   ]
  },
  {
   "cell_type": "code",
   "execution_count": 20,
   "metadata": {},
   "outputs": [
    {
     "data": {
      "text/html": [
       "<div>\n",
       "<style scoped>\n",
       "    .dataframe tbody tr th:only-of-type {\n",
       "        vertical-align: middle;\n",
       "    }\n",
       "\n",
       "    .dataframe tbody tr th {\n",
       "        vertical-align: top;\n",
       "    }\n",
       "\n",
       "    .dataframe thead th {\n",
       "        text-align: right;\n",
       "    }\n",
       "</style>\n",
       "<table border=\"1\" class=\"dataframe\">\n",
       "  <thead>\n",
       "    <tr style=\"text-align: right;\">\n",
       "      <th></th>\n",
       "      <th>COLOR</th>\n",
       "      <th>r</th>\n",
       "      <th>g</th>\n",
       "      <th>b</th>\n",
       "    </tr>\n",
       "  </thead>\n",
       "  <tbody>\n",
       "    <tr>\n",
       "      <th>0</th>\n",
       "      <td>cover</td>\n",
       "      <td>255</td>\n",
       "      <td>255</td>\n",
       "      <td>255</td>\n",
       "    </tr>\n",
       "    <tr>\n",
       "      <th>1</th>\n",
       "      <td>grainstone</td>\n",
       "      <td>248</td>\n",
       "      <td>169</td>\n",
       "      <td>85</td>\n",
       "    </tr>\n",
       "    <tr>\n",
       "      <th>2</th>\n",
       "      <td>intraclast breccia</td>\n",
       "      <td>200</td>\n",
       "      <td>100</td>\n",
       "      <td>255</td>\n",
       "    </tr>\n",
       "    <tr>\n",
       "      <th>3</th>\n",
       "      <td>marl</td>\n",
       "      <td>119</td>\n",
       "      <td>136</td>\n",
       "      <td>187</td>\n",
       "    </tr>\n",
       "    <tr>\n",
       "      <th>4</th>\n",
       "      <td>marl-ribbonite</td>\n",
       "      <td>119</td>\n",
       "      <td>136</td>\n",
       "      <td>187</td>\n",
       "    </tr>\n",
       "  </tbody>\n",
       "</table>\n",
       "</div>"
      ],
      "text/plain": [
       "                COLOR    r    g    b\n",
       "0               cover  255  255  255\n",
       "1          grainstone  248  169   85\n",
       "2  intraclast breccia  200  100  255\n",
       "3                marl  119  136  187\n",
       "4      marl-ribbonite  119  136  187"
      ]
     },
     "execution_count": 20,
     "metadata": {},
     "output_type": "execute_result"
    }
   ],
   "source": [
    "color_style = pd.read_csv('example-data/color-style.csv')\n",
    "color_style.head()"
   ]
  },
  {
   "cell_type": "code",
   "execution_count": 21,
   "metadata": {},
   "outputs": [
    {
     "data": {
      "text/html": [
       "<div>\n",
       "<style scoped>\n",
       "    .dataframe tbody tr th:only-of-type {\n",
       "        vertical-align: middle;\n",
       "    }\n",
       "\n",
       "    .dataframe tbody tr th {\n",
       "        vertical-align: top;\n",
       "    }\n",
       "\n",
       "    .dataframe thead th {\n",
       "        text-align: right;\n",
       "    }\n",
       "</style>\n",
       "<table border=\"1\" class=\"dataframe\">\n",
       "  <thead>\n",
       "    <tr style=\"text-align: right;\">\n",
       "      <th></th>\n",
       "      <th>FACIES</th>\n",
       "      <th>width</th>\n",
       "    </tr>\n",
       "  </thead>\n",
       "  <tbody>\n",
       "    <tr>\n",
       "      <th>0</th>\n",
       "      <td>cover</td>\n",
       "      <td>0.2</td>\n",
       "    </tr>\n",
       "    <tr>\n",
       "      <th>1</th>\n",
       "      <td>grainstone</td>\n",
       "      <td>0.8</td>\n",
       "    </tr>\n",
       "    <tr>\n",
       "      <th>2</th>\n",
       "      <td>intraclast breccia</td>\n",
       "      <td>1.0</td>\n",
       "    </tr>\n",
       "    <tr>\n",
       "      <th>3</th>\n",
       "      <td>marl</td>\n",
       "      <td>0.4</td>\n",
       "    </tr>\n",
       "    <tr>\n",
       "      <th>4</th>\n",
       "      <td>marl-ribbonite</td>\n",
       "      <td>0.4</td>\n",
       "    </tr>\n",
       "  </tbody>\n",
       "</table>\n",
       "</div>"
      ],
      "text/plain": [
       "               FACIES  width\n",
       "0               cover    0.2\n",
       "1          grainstone    0.8\n",
       "2  intraclast breccia    1.0\n",
       "3                marl    0.4\n",
       "4      marl-ribbonite    0.4"
      ]
     },
     "execution_count": 21,
     "metadata": {},
     "output_type": "execute_result"
    }
   ],
   "source": [
    "width_style = pd.read_csv('example-data/width-style.csv')\n",
    "width_style.head()"
   ]
  },
  {
   "cell_type": "markdown",
   "metadata": {},
   "source": [
    "---\n",
    "**Initialize a `Style` object.**\n",
    "\n",
    "Values need to be assigned to seven core attributes during initialization:\n",
    "\n",
    "* `color_attribute`\n",
    "    * `Section` attribute name from which the color labels are derived\n",
    "* `color_labels`\n",
    "    * the labels to which colors are assigned\n",
    "* `color_values`\n",
    "    * the colors that will be assigned to the associated labels\n",
    "* `width_attribute`\n",
    "    * `Section` attribute name from with the width labels are derived\n",
    "* `width_labels`\n",
    "    * the labels to which widths are assigned\n",
    "* `width_values`\n",
    "    * the widths that will be assigned to the associated labels\n",
    "* `height_scaling_factor`\n",
    "    * the factor by which the height units of a `Section` will be converted to inches during plotting\n",
    "* `width_inches`\n",
    "    * when plotting, a width value of 1 will be this many inches wide\n",
    "    \n",
    "Note that:\n",
    "\n",
    "* `color_attribute` and `width_attribute` must be valid attributes within the `Section` you are trying to plot\n",
    "* the values within the associated `Section` attribute must form a subset of the `color_labels` and `width_labels`\n",
    "* `color_values` can take any form that is interpretable by *matplotlib* (in this example, we use RGB values)\n",
    "* `width_values` must be between 0 and 1"
   ]
  },
  {
   "cell_type": "code",
   "execution_count": 22,
   "metadata": {},
   "outputs": [],
   "source": [
    "style_01 = pystrat.Style('facies',color_style['COLOR'],color_style[['r','g','b']]/255,\n",
    "                         'facies',width_style['FACIES'],width_style['width'],\n",
    "                         0.075, 1)"
   ]
  },
  {
   "cell_type": "markdown",
   "metadata": {},
   "source": [
    "---\n",
    "**Visualize the `Style`.**\n",
    "\n",
    "We can create a legend for any `Style` using the `plot_legend()` method:"
   ]
  },
  {
   "cell_type": "code",
   "execution_count": 23,
   "metadata": {
    "scrolled": false
   },
   "outputs": [
    {
     "name": "stdout",
     "output_type": "stream",
     "text": [
      "stratigraphic height scaling : 1 distance unit = 1 inch * 0.075\n",
      "width value of 1 will be     : 1 inches\n"
     ]
    },
    {
     "data": {
      "image/png": "[encoded data removed]",
      "text/plain": [
       "<Figure size 144x288 with 1 Axes>"
      ]
     },
     "metadata": {
      "needs_background": "light"
     },
     "output_type": "display_data"
    }
   ],
   "source": [
    "fig, ax = style_01.plot_legend()\n",
    "\n",
    "plt.show(fig)"
   ]
  },
  {
   "cell_type": "markdown",
   "metadata": {},
   "source": [
    "### Plotting a Section\n",
    "\n",
    "**Check that the `Section` is compatible with the `Style`.**\n",
    "\n",
    "As described above, the `Style` must specify attributes and labels that are compatible with any given `Section`. The `section_style_compatibility()` function tests this compatibility:"
   ]
  },
  {
   "cell_type": "code",
   "execution_count": 24,
   "metadata": {},
   "outputs": [
    {
     "name": "stdout",
     "output_type": "stream",
     "text": [
      "Section and Style are compatible.\n"
     ]
    }
   ],
   "source": [
    "pystrat.section_style_compatibility(section_01, style_01)"
   ]
  },
  {
   "cell_type": "markdown",
   "metadata": {},
   "source": [
    "---\n",
    "**Plot the `Section`**.\n",
    "\n",
    "Plotting a stratigraphic section on its own is straight-forward - we simply use the `plot_stratigraphy()` function.\n",
    "\n",
    "Importantly, the height of the axis is explicitly set by the `height_scaling_factor` value in the associated `Style` object, and the width of the axis is explicitly set by the `width_inches` value in the associated `Style` object. Therefore, all sections that are plotted using the same `Style` will have exactly the same scaling ratio applied to the stratigraphic height, and therefore be directly compared to one another."
   ]
  },
  {
   "cell_type": "code",
   "execution_count": 25,
   "metadata": {},
   "outputs": [
    {
     "data": {
      "image/png": "[encoded data removed]",
      "text/plain": [
       "<Figure size 144x711.36 with 1 Axes>"
      ]
     },
     "metadata": {
      "needs_background": "light"
     },
     "output_type": "display_data"
    }
   ],
   "source": [
    "fig, ax = pystrat.plot_stratigraphy(section_01, style_01)\n",
    "\n",
    "plt.show(fig)"
   ]
  },
  {
   "cell_type": "markdown",
   "metadata": {},
   "source": [
    "---\n",
    "**Plotting additional data.**\n",
    "\n",
    "Additional data can be plotted alongside the stratigraphic section by changing `ncols` in the `plot_stratigraphy()` function, in a manner similar to that when using `plt.subplots()`. Additional data can then easily be plotted on top of these pre-generated axes:"
   ]
  },
  {
   "cell_type": "code",
   "execution_count": 26,
   "metadata": {},
   "outputs": [
    {
     "data": {
      "image/png": "[encoded data removed]",
      "text/plain": [
       "<Figure size 252x711.36 with 4 Axes>"
      ]
     },
     "metadata": {
      "needs_background": "light"
     },
     "output_type": "display_data"
    }
   ],
   "source": [
    "fig, ax = pystrat.plot_stratigraphy(section_01, style_01, ncols=4)\n",
    "\n",
    "ax[1].scatter(section_01.d13C.values, section_01.d13C.height, c='C0')\n",
    "ax[1].set_xlim(-10,10)\n",
    "ax[1].set_xlabel('$\\delta^{13}$C')\n",
    "\n",
    "ax[2].scatter(section_01.Sr87Sr86.values, section_01.Sr87Sr86.height, c='C1')\n",
    "ax[2].set_xlim(0.7060,0.7070)\n",
    "ax[2].set_xlabel('$^{87}$Sr/$^{86}$Sr')\n",
    "\n",
    "ax[3].scatter(section_01.Mn.values/section_01.Sr.values, section_01.Sr.height, c='C2')\n",
    "ax[3].set_xlim(0,10)\n",
    "ax[3].set_xlabel('Mn/Sr')\n",
    "\n",
    "plt.show(fig)"
   ]
  }
 ],
 "metadata": {
  "kernelspec": {
   "display_name": "Python 3",
   "language": "python",
   "name": "python3"
  },
  "language_info": {
   "codemirror_mode": {
    "name": "ipython",
    "version": 3
   },
   "file_extension": ".py",
   "mimetype": "text/x-python",
   "name": "python",
   "nbconvert_exporter": "python",
   "pygments_lexer": "ipython3",
   "version": "3.7.7"
  },
  "toc": {
   "base_numbering": 1,
   "nav_menu": {
    "height": "120px",
    "width": "252px"
   },
   "number_sections": false,
   "sideBar": true,
   "skip_h1_title": false,
   "title_cell": "Table of Contents",
   "title_sidebar": "Contents",
   "toc_cell": false,
   "toc_position": {
    "height": "648px",
    "left": "0px",
    "right": "1282px",
    "top": "111px",
    "width": "158px"
   },
   "toc_section_display": "block",
   "toc_window_display": true
  },
  "varInspector": {
   "cols": {
    "lenName": 16,
    "lenType": 16,
    "lenVar": 40
   },
   "kernels_config": {
    "python": {
     "delete_cmd_postfix": "",
     "delete_cmd_prefix": "del ",
     "library": "var_list.py",
     "varRefreshCmd": "print(var_dic_list())"
    },
    "r": {
     "delete_cmd_postfix": ") ",
     "delete_cmd_prefix": "rm(",
     "library": "var_list.r",
     "varRefreshCmd": "cat(var_dic_list()) "
    }
   },
   "types_to_exclude": [
    "module",
    "function",
    "builtin_function_or_method",
    "instance",
    "_Feature"
   ],
   "window_display": false
  }
 },
 "nbformat": 4,
 "nbformat_minor": 2
}
