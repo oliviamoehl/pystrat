{
 "cells": [
  {
   "cell_type": "markdown",
   "metadata": {},
   "source": [
    "# pyStrat_draft\n",
    "\n",
    "This notebook is a draft/testing stage for pyStrat."
   ]
  },
  {
   "cell_type": "markdown",
   "metadata": {},
   "source": [
    "## import modules"
   ]
  },
  {
   "cell_type": "code",
   "execution_count": 1,
   "metadata": {
    "collapsed": true
   },
   "outputs": [],
   "source": [
    "import matplotlib.pyplot as plt\n",
    "import matplotlib.patches as patches\n",
    "import pandas as pd\n",
    "import numpy as np\n",
    "% matplotlib inline"
   ]
  },
  {
   "cell_type": "markdown",
   "metadata": {},
   "source": [
    "## import data\n",
    "\n",
    "Note that the .csv must follow the form of the template (adapted from the Matstrat template):\n",
    "\n",
    "* lines 1-4 can be filled with arbitrary relevant information - the code will start reading in data at line 5\n",
    "\n",
    "* Lithofacies:\n",
    "\n",
    "    * line 5 MUST contain at least two headers\n",
    "\n",
    "    * one of these headers MUST be named 'THICKNESS' - other columns may be named whatever the user desires\n",
    "    \n",
    "* Samples:\n",
    "    \n",
    "    * currently this function supports ash, dz, and paleomagnetism samples (follow the template format). More flexibility will be introduced later."
   ]
  },
  {
   "cell_type": "code",
   "execution_count": 2,
   "metadata": {
    "collapsed": false
   },
   "outputs": [
    {
     "data": {
      "text/html": [
       "<div>\n",
       "<table border=\"1\" class=\"dataframe\">\n",
       "  <thead>\n",
       "    <tr style=\"text-align: right;\">\n",
       "      <th></th>\n",
       "      <th>THICKNESS</th>\n",
       "      <th>LITHOLOGY</th>\n",
       "      <th>GRAIN_SIZE</th>\n",
       "      <th>COLOUR</th>\n",
       "      <th>FEATURES</th>\n",
       "      <th>HASH</th>\n",
       "      <th>ASH</th>\n",
       "      <th>ASH_HEIGHT</th>\n",
       "      <th>DZ</th>\n",
       "      <th>DZ_HEIGHT</th>\n",
       "      <th>PM_SITE</th>\n",
       "      <th>PM_SAMPLE</th>\n",
       "      <th>PM_HEIGHT</th>\n",
       "    </tr>\n",
       "  </thead>\n",
       "  <tbody>\n",
       "    <tr>\n",
       "      <th>0</th>\n",
       "      <td>14.8</td>\n",
       "      <td>si</td>\n",
       "      <td>sts</td>\n",
       "      <td>purple</td>\n",
       "      <td>NaN</td>\n",
       "      <td>NaN</td>\n",
       "      <td>Hongzixi1-53.1</td>\n",
       "      <td>911.7</td>\n",
       "      <td>Hongzixi2-237.8</td>\n",
       "      <td>237.8</td>\n",
       "      <td>16TR001</td>\n",
       "      <td>A</td>\n",
       "      <td>934.60</td>\n",
       "    </tr>\n",
       "    <tr>\n",
       "      <th>1</th>\n",
       "      <td>0.2</td>\n",
       "      <td>tuff</td>\n",
       "      <td>tuff</td>\n",
       "      <td>tuff</td>\n",
       "      <td>NaN</td>\n",
       "      <td>NaN</td>\n",
       "      <td>Hongzixi1-148.0</td>\n",
       "      <td>1006.6</td>\n",
       "      <td>Hongzixi2-349.6</td>\n",
       "      <td>349.6</td>\n",
       "      <td>16TR001</td>\n",
       "      <td>B</td>\n",
       "      <td>934.72</td>\n",
       "    </tr>\n",
       "    <tr>\n",
       "      <th>2</th>\n",
       "      <td>1.5</td>\n",
       "      <td>si</td>\n",
       "      <td>sts</td>\n",
       "      <td>purple</td>\n",
       "      <td>NaN</td>\n",
       "      <td>NaN</td>\n",
       "      <td>Hongzixi1-148.9</td>\n",
       "      <td>1007.5</td>\n",
       "      <td>Hongzixi2-403.5</td>\n",
       "      <td>403.5</td>\n",
       "      <td>16TR001</td>\n",
       "      <td>C</td>\n",
       "      <td>935.04</td>\n",
       "    </tr>\n",
       "    <tr>\n",
       "      <th>3</th>\n",
       "      <td>4.8</td>\n",
       "      <td>cover</td>\n",
       "      <td>cover</td>\n",
       "      <td>cover</td>\n",
       "      <td>NaN</td>\n",
       "      <td>NaN</td>\n",
       "      <td>Hongzixi2-138.3</td>\n",
       "      <td>138.3</td>\n",
       "      <td>Hongzixi2-532.8</td>\n",
       "      <td>532.8</td>\n",
       "      <td>16TR001</td>\n",
       "      <td>D</td>\n",
       "      <td>935.03</td>\n",
       "    </tr>\n",
       "    <tr>\n",
       "      <th>4</th>\n",
       "      <td>3.7</td>\n",
       "      <td>si</td>\n",
       "      <td>sts</td>\n",
       "      <td>purple</td>\n",
       "      <td>NaN</td>\n",
       "      <td>NaN</td>\n",
       "      <td>Hongzixi2-159.4</td>\n",
       "      <td>159.4</td>\n",
       "      <td>Hongzixi3-#3+224.7</td>\n",
       "      <td>1671.3</td>\n",
       "      <td>16TR001</td>\n",
       "      <td>E</td>\n",
       "      <td>935.14</td>\n",
       "    </tr>\n",
       "  </tbody>\n",
       "</table>\n",
       "</div>"
      ],
      "text/plain": [
       "   THICKNESS LITHOLOGY GRAIN_SIZE  COLOUR FEATURES  HASH              ASH  \\\n",
       "0       14.8        si        sts  purple      NaN   NaN   Hongzixi1-53.1   \n",
       "1        0.2      tuff       tuff    tuff      NaN   NaN  Hongzixi1-148.0   \n",
       "2        1.5        si        sts  purple      NaN   NaN  Hongzixi1-148.9   \n",
       "3        4.8     cover      cover   cover      NaN   NaN  Hongzixi2-138.3   \n",
       "4        3.7        si        sts  purple      NaN   NaN  Hongzixi2-159.4   \n",
       "\n",
       "   ASH_HEIGHT                  DZ  DZ_HEIGHT  PM_SITE PM_SAMPLE  PM_HEIGHT  \n",
       "0       911.7     Hongzixi2-237.8      237.8  16TR001         A     934.60  \n",
       "1      1006.6     Hongzixi2-349.6      349.6  16TR001         B     934.72  \n",
       "2      1007.5     Hongzixi2-403.5      403.5  16TR001         C     935.04  \n",
       "3       138.3     Hongzixi2-532.8      532.8  16TR001         D     935.03  \n",
       "4       159.4  Hongzixi3-#3+224.7     1671.3  16TR001         E     935.14  "
      ]
     },
     "execution_count": 2,
     "metadata": {},
     "output_type": "execute_result"
    }
   ],
   "source": [
    "# the data\n",
    "data = pd.read_csv('data_template.csv', header=4)\n",
    "\n",
    "# get rid of blank columns\n",
    "cols = []\n",
    "for c in data.columns:\n",
    "    if 'Unnamed' not in c:\n",
    "        cols.append(c)\n",
    "data=data[cols]\n",
    "\n",
    "data.head()"
   ]
  },
  {
   "cell_type": "markdown",
   "metadata": {
    "collapsed": true
   },
   "source": [
    "## import formatting\n",
    "\n",
    "Note that the .csv must follow the form of the template:\n",
    "\n",
    "* columns 1-4 are used to set the colour of the boxes:\n",
    "\n",
    "    * columns 1-3 must be called 'r', 'g', and 'b' (for red, green, and blue)\n",
    "    \n",
    "        * values in columns 1-3 must be between 0-255\n",
    "\n",
    "    * the header of column 4 must match one of the headers used in the data .csv, and all values in the data must be a subset of the values in this column\n",
    "\n",
    "* columns 6-7 are used to set the width of the boxes:\n",
    "\n",
    "    * column 6 must be called 'width'\n",
    "\n",
    "    * the header of column 7 must match one of the headers used in the data .csv, and all values in the data must be a subset of the values in this column\n",
    "    \n",
    "* column 5 should be left blank for readability"
   ]
  },
  {
   "cell_type": "code",
   "execution_count": 3,
   "metadata": {
    "collapsed": false
   },
   "outputs": [
    {
     "data": {
      "text/html": [
       "<div>\n",
       "<table border=\"1\" class=\"dataframe\">\n",
       "  <thead>\n",
       "    <tr style=\"text-align: right;\">\n",
       "      <th></th>\n",
       "      <th>r</th>\n",
       "      <th>g</th>\n",
       "      <th>b</th>\n",
       "      <th>COLOUR</th>\n",
       "      <th>Unnamed: 4</th>\n",
       "      <th>width</th>\n",
       "      <th>GRAIN_SIZE</th>\n",
       "    </tr>\n",
       "  </thead>\n",
       "  <tbody>\n",
       "    <tr>\n",
       "      <th>0</th>\n",
       "      <td>0.784314</td>\n",
       "      <td>0.525490</td>\n",
       "      <td>0.823529</td>\n",
       "      <td>purple</td>\n",
       "      <td>NaN</td>\n",
       "      <td>0.30</td>\n",
       "      <td>sts</td>\n",
       "    </tr>\n",
       "    <tr>\n",
       "      <th>1</th>\n",
       "      <td>1.000000</td>\n",
       "      <td>0.827451</td>\n",
       "      <td>0.862745</td>\n",
       "      <td>tuff</td>\n",
       "      <td>NaN</td>\n",
       "      <td>1.00</td>\n",
       "      <td>tuff</td>\n",
       "    </tr>\n",
       "    <tr>\n",
       "      <th>2</th>\n",
       "      <td>1.000000</td>\n",
       "      <td>1.000000</td>\n",
       "      <td>1.000000</td>\n",
       "      <td>cover</td>\n",
       "      <td>NaN</td>\n",
       "      <td>0.20</td>\n",
       "      <td>cover</td>\n",
       "    </tr>\n",
       "    <tr>\n",
       "      <th>3</th>\n",
       "      <td>0.168627</td>\n",
       "      <td>0.713725</td>\n",
       "      <td>0.450980</td>\n",
       "      <td>green</td>\n",
       "      <td>NaN</td>\n",
       "      <td>0.30</td>\n",
       "      <td>sts-tuff</td>\n",
       "    </tr>\n",
       "    <tr>\n",
       "      <th>4</th>\n",
       "      <td>0.509804</td>\n",
       "      <td>0.666667</td>\n",
       "      <td>1.000000</td>\n",
       "      <td>purple-green</td>\n",
       "      <td>NaN</td>\n",
       "      <td>0.35</td>\n",
       "      <td>sts-vfss</td>\n",
       "    </tr>\n",
       "  </tbody>\n",
       "</table>\n",
       "</div>"
      ],
      "text/plain": [
       "          r         g         b        COLOUR  Unnamed: 4  width GRAIN_SIZE\n",
       "0  0.784314  0.525490  0.823529        purple         NaN   0.30        sts\n",
       "1  1.000000  0.827451  0.862745          tuff         NaN   1.00       tuff\n",
       "2  1.000000  1.000000  1.000000         cover         NaN   0.20      cover\n",
       "3  0.168627  0.713725  0.450980         green         NaN   0.30   sts-tuff\n",
       "4  0.509804  0.666667  1.000000  purple-green         NaN   0.35   sts-vfss"
      ]
     },
     "execution_count": 3,
     "metadata": {},
     "output_type": "execute_result"
    }
   ],
   "source": [
    "# the formatting\n",
    "formatting = pd.read_csv('format_template.csv')\n",
    "\n",
    "# convert rgb to 0-1 scale for plotting\n",
    "for i in range(len(formatting.index)):\n",
    "    formatting.loc[i,'r'] = formatting.loc[i,'r'] / 255\n",
    "    formatting.loc[i,'g'] = formatting.loc[i,'g'] / 255\n",
    "    formatting.loc[i,'b'] = formatting.loc[i,'b'] / 255\n",
    "    \n",
    "formatting.head()"
   ]
  },
  {
   "cell_type": "markdown",
   "metadata": {},
   "source": [
    "## check that values in the data are a subset of values in the formatting"
   ]
  },
  {
   "cell_type": "code",
   "execution_count": 4,
   "metadata": {
    "collapsed": false
   },
   "outputs": [
    {
     "name": "stdout",
     "output_type": "stream",
     "text": [
      "Colour and width check passed.\n"
     ]
    }
   ],
   "source": [
    "# get the colour and width headers being used\n",
    "colour_header = formatting.columns[3]\n",
    "width_header = formatting.columns[6]\n",
    "\n",
    "# loop over values in the data\n",
    "for i in range(len(data.index)):\n",
    "    all_check = True\n",
    "    colour_check = False\n",
    "    width_check = False\n",
    "    \n",
    "    # only check if the value is not nan\n",
    "    if pd.notnull(data['THICKNESS'][i]):\n",
    "    \n",
    "        # check to see if specified value is in the formatting table\n",
    "        for j in range(len(formatting.index)):\n",
    "            if data[colour_header][i] == formatting[colour_header][j]:\n",
    "                colour_check = True\n",
    "            if data[width_header][i] == formatting[width_header][j]:\n",
    "                width_check = True\n",
    "\n",
    "        # print warning if the check fails\n",
    "        if colour_check == False:\n",
    "            print('Colour check failed for item ' + str(data[colour_header][i]) + '.')\n",
    "            all_check = False\n",
    "        if width_check == False:\n",
    "            print('Width check failed for item ' + str(data[width_header][i]) + '.')\n",
    "            all_check = False\n",
    "\n",
    "# print an all clear statement if the check passes\n",
    "if all_check:\n",
    "    print('Colour and width check passed.')"
   ]
  },
  {
   "cell_type": "markdown",
   "metadata": {
    "collapsed": true
   },
   "source": [
    "## plot everything"
   ]
  },
  {
   "cell_type": "code",
   "execution_count": 5,
   "metadata": {
    "collapsed": false,
    "scrolled": false
   },
   "outputs": [
    {
     "data": {
      "image/png": "[encoded data removed]",
      "text/plain": [
       "<matplotlib.figure.Figure at 0x114f114e0>"
      ]
     },
     "metadata": {},
     "output_type": "display_data"
    }
   ],
   "source": [
    "# patches.Rectangle((x, y), width, height, facecolor=[r,g,b])\n",
    "\n",
    "# create the figure and axis handles, and initiate counting of the stratigraphic height\n",
    "fig, axs = plt.subplots(nrows=1, ncols=4, sharey=True, gridspec_kw = {'width_ratios':[3,1,1,1]})\n",
    "strat_height = 0.0\n",
    "\n",
    "# loop over elements of the data\n",
    "for i in range(len(data.index)):\n",
    "    \n",
    "    # only plot non-nan cells\n",
    "    if pd.notnull(data['THICKNESS'][i]):\n",
    "    \n",
    "        # find the thickness to be used\n",
    "        this_thickness = data['THICKNESS'][i]\n",
    "\n",
    "        # find the colour and width to be used\n",
    "        for j in range(len(formatting.index)):\n",
    "            if data[colour_header][i] == formatting[colour_header][j]:\n",
    "                this_colour = [formatting['r'][j], formatting['g'][j], formatting['b'][j]]\n",
    "            if data[width_header][i] == formatting[width_header][j]:\n",
    "                this_width = formatting['width'][j]\n",
    "\n",
    "        # create the rectangle\n",
    "        axs[0].add_patch(patches.Rectangle((0.0,strat_height), this_width, this_thickness, facecolor=this_colour))\n",
    "\n",
    "        # count the stratigraphic height\n",
    "        strat_height = strat_height + this_thickness\n",
    "\n",
    "# force the limits on the lithostratigraphy plot\n",
    "axs[0].set_xlim([0,1])\n",
    "axs[0].set_ylim([0,strat_height])\n",
    "\n",
    "# plot the samples\n",
    "axs[1].scatter(np.zeros(len(data['ASH_HEIGHT'])),data['ASH_HEIGHT'],\\\n",
    "               marker='^',color='firebrick',s=50,edgecolors='k',linewidth=0.5)\n",
    "axs[2].scatter(np.zeros(len(data['DZ_HEIGHT'])),data['DZ_HEIGHT'],\\\n",
    "               marker='v',color='crimson',s=50,edgecolors='k',linewidth=0.5)\n",
    "axs[3].scatter(np.zeros(len(data['PM_HEIGHT'])),data['PM_HEIGHT'],\\\n",
    "               marker='o',color='dodgerblue',s=10,edgecolors='k',linewidth=0.1)\n",
    "\n",
    "# force the size of the plot\n",
    "ratio = 0.005\n",
    "fig.set_figheight(strat_height * ratio)\n",
    "fig.set_figwidth(6)\n",
    "\n",
    "# prettify\n",
    "axs[0].set_ylabel('stratigraphic height [m]')\n",
    "axs[1].set_title('ashes')\n",
    "axs[2].set_title('detritals')\n",
    "axs[3].set_title('cores')\n",
    "axs[1].set_xticklabels([])\n",
    "axs[2].set_xticklabels([])\n",
    "axs[3].set_xticklabels([])\n",
    "axs[1].set_xticks([])\n",
    "axs[2].set_xticks([])\n",
    "axs[3].set_xticks([])\n",
    "    \n",
    "plt.show(fig)"
   ]
  }
 ],
 "metadata": {
  "anaconda-cloud": {},
  "kernelspec": {
   "display_name": "Python [default]",
   "language": "python",
   "name": "python3"
  },
  "language_info": {
   "codemirror_mode": {
    "name": "ipython",
    "version": 3
   },
   "file_extension": ".py",
   "mimetype": "text/x-python",
   "name": "python",
   "nbconvert_exporter": "python",
   "pygments_lexer": "ipython3",
   "version": "3.5.2"
  },
  "toc": {
   "nav_menu": {
    "height": "135px",
    "width": "252px"
   },
   "navigate_menu": true,
   "number_sections": false,
   "sideBar": true,
   "threshold": 4,
   "toc_cell": false,
   "toc_section_display": "block",
   "toc_window_display": true
  }
 },
 "nbformat": 4,
 "nbformat_minor": 0
}
