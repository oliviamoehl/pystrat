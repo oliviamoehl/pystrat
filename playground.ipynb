{
 "cells": [
  {
   "cell_type": "markdown",
   "metadata": {},
   "source": [
    "A scrap notebook for playing around with functionality."
   ]
  },
  {
   "cell_type": "code",
   "execution_count": 25,
   "metadata": {
    "collapsed": true
   },
   "outputs": [],
   "source": [
    "import numpy as np\n",
    "import math\n",
    "import pandas as pd\n",
    "import matplotlib.pyplot as plt\n",
    "import matplotlib.patches as patches\n",
    "from matplotlib.ticker import MaxNLocator\n",
    "\n",
    "%matplotlib inline"
   ]
  },
  {
   "cell_type": "markdown",
   "metadata": {},
   "source": [
    "So number of subplots must be known in advance, but what we can add to them is arbitrary.\n",
    "\n",
    "Create function that initiates a figure.\n",
    "\n",
    "Create function that adds subplots."
   ]
  },
  {
   "cell_type": "code",
   "execution_count": 2,
   "metadata": {
    "collapsed": false
   },
   "outputs": [],
   "source": [
    "from pyStrat import read_data\n",
    "from pyStrat import read_formatting\n",
    "data = read_data('data_template.csv')\n",
    "formatting = read_formatting('formatting_template.csv')"
   ]
  },
  {
   "cell_type": "code",
   "execution_count": null,
   "metadata": {
    "collapsed": true
   },
   "outputs": [],
   "source": [
    "# replace widths of 1.0 with 0.9 so they don't span the entire plot width\n",
    "formatting.width.replace(1.00, 0.9, inplace=True)"
   ]
  },
  {
   "cell_type": "code",
   "execution_count": 3,
   "metadata": {
    "collapsed": true
   },
   "outputs": [],
   "source": [
    "def initiate_figure(data, formatting, strat_ratio, figwidth, width_ratios):\n",
    "    patterns = ('-', '+', 'x', '\\\\', '*', 'o', 'O', '.')\n",
    "    ncols = len(width_ratios)\n",
    "    fig, axs = plt.subplots(nrows=1, ncols=ncols, sharey=True, gridspec_kw={'width_ratios':width_ratios})\n",
    "\n",
    "    # get the colour and width headers being used\n",
    "    colour_header = formatting.columns[3]\n",
    "    width_header = formatting.columns[6]\n",
    "\n",
    "    # initiate counting of the stratigraphic height\n",
    "    strat_height = 0.0\n",
    "\n",
    "    # loop over elements of the data\n",
    "    for i in range(len(data.index)):\n",
    "\n",
    "        # only plot non-nan cells\n",
    "        if pd.notnull(data['THICKNESS'][i]):\n",
    "\n",
    "            # find the thickness to be used\n",
    "            this_thickness = data['THICKNESS'][i]\n",
    "\n",
    "            # find the colour and width to be used\n",
    "            for j in range(len(formatting.index)):\n",
    "                if data[colour_header][i] == formatting[colour_header][j]:\n",
    "                    this_colour = [formatting['r'][j], formatting['g'][j], formatting['b'][j]]\n",
    "                if data[width_header][i] == formatting[width_header][j]:\n",
    "                    this_width = formatting['width'][j]\n",
    "\n",
    "            # create the rectangle\n",
    "            rect = axs[0].add_patch(patches.Rectangle((0.0,strat_height), this_width, this_thickness, facecolor=this_colour))\n",
    "#             rect.set_hatch(patterns[np.random.randint(len(patterns))])\n",
    "            # count the stratigraphic height\n",
    "            strat_height = strat_height + this_thickness\n",
    "\n",
    "    # force the limits on the lithostratigraphy plot\n",
    "    axs[0].set_xlim([0,1])\n",
    "    axs[0].set_ylim([0,strat_height])\n",
    "    \n",
    "    # force the size of the plot\n",
    "    fig.set_figheight(strat_height * strat_ratio)\n",
    "    fig.set_figwidth(figwidth)\n",
    "\n",
    "    # prettify\n",
    "    axs[0].set_ylabel('stratigraphic height [m]')\n",
    "    axs[0].set_xticklabels([])\n",
    "    axs[0].set_xticks([])\n",
    "    \n",
    "    return fig, axs"
   ]
  },
  {
   "cell_type": "code",
   "execution_count": 27,
   "metadata": {
    "collapsed": true
   },
   "outputs": [],
   "source": [
    "def add_data_axis(fig, axs, ax_num, x, y, style, **kwargs):\n",
    "    ax = axs[ax_num]\n",
    "    if style == 'plot':\n",
    "        ax.plot(x, y, **kwargs)\n",
    "    elif style == 'scatter':\n",
    "        ax.scatter(x, y, **kwargs)\n",
    "    else:\n",
    "        print(\"Only 'plot' and 'scatter' are supported for 'style.\")\n",
    "    return ax"
   ]
  },
  {
   "cell_type": "code",
   "execution_count": 34,
   "metadata": {
    "collapsed": false
   },
   "outputs": [
    {
     "data": {
      "image/png": "[encoded data removed]",
      "text/plain": [
       "<matplotlib.figure.Figure at 0x1194b0518>"
      ]
     },
     "metadata": {},
     "output_type": "display_data"
    }
   ],
   "source": [
    "fig, axs = initiate_figure(data, formatting, 0.003, 5, [3,2,2])\n",
    "ax2 = add_data_axis(fig, axs, 1, [0,3,4,1], [500,1000,1500,2000], 'scatter', color='red')\n",
    "# add some code to prevent overlapping tick labels\n",
    "ax2.xaxis.set_major_locator(MaxNLocator(6, prune='both'))\n",
    "ax3 = add_data_axis(fig, axs, 2, [0,3,4,1], [500,1000,1500,2000], 'plot', linewidth=1)\n",
    "# add some code to prevent overlapping tick labels\n",
    "ax3.xaxis.set_major_locator(MaxNLocator(4))"
   ]
  }
 ],
 "metadata": {
  "anaconda-cloud": {},
  "hide_input": false,
  "kernelspec": {
   "display_name": "Python [conda root]",
   "language": "python",
   "name": "conda-root-py"
  },
  "language_info": {
   "codemirror_mode": {
    "name": "ipython",
    "version": 3
   },
   "file_extension": ".py",
   "mimetype": "text/x-python",
   "name": "python",
   "nbconvert_exporter": "python",
   "pygments_lexer": "ipython3",
   "version": "3.5.2"
  },
  "toc": {
   "nav_menu": {
    "height": "12px",
    "width": "252px"
   },
   "navigate_menu": true,
   "number_sections": true,
   "sideBar": true,
   "threshold": 4,
   "toc_cell": false,
   "toc_section_display": "block",
   "toc_window_display": false
  }
 },
 "nbformat": 4,
 "nbformat_minor": 1
}
