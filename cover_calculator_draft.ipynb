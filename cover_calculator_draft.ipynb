{
 "cells": [
  {
   "cell_type": "markdown",
   "metadata": {},
   "source": [
    "# cover_calculator_draft\n",
    "\n",
    "Given the following for the start and end points, calculate a stratigraphic thickness between the two points:\n",
    "* latitude (decimal degrees)\n",
    "* longitude (decimal degrees)\n",
    "* elevation (m)\n",
    "* strike of bedding (RHR)\n",
    "* dip of bedding"
   ]
  },
  {
   "cell_type": "markdown",
   "metadata": {},
   "source": [
    "## import stuff"
   ]
  },
  {
   "cell_type": "code",
   "execution_count": 1,
   "metadata": {},
   "outputs": [
    {
     "ename": "ImportError",
     "evalue": "No module named 'calculation_functions'",
     "output_type": "error",
     "traceback": [
      "\u001b[0;31m---------------------------------------------------------------------------\u001b[0m",
      "\u001b[0;31mImportError\u001b[0m                               Traceback (most recent call last)",
      "\u001b[0;32m<ipython-input-1-88b1592c7f3e>\u001b[0m in \u001b[0;36m<module>\u001b[0;34m()\u001b[0m\n\u001b[1;32m      2\u001b[0m \u001b[0;32mimport\u001b[0m \u001b[0mpandas\u001b[0m \u001b[0;32mas\u001b[0m \u001b[0mpd\u001b[0m\u001b[0;34m\u001b[0m\u001b[0m\n\u001b[1;32m      3\u001b[0m \u001b[0;32mimport\u001b[0m \u001b[0mnumpy\u001b[0m \u001b[0;32mas\u001b[0m \u001b[0mnp\u001b[0m\u001b[0;34m\u001b[0m\u001b[0m\n\u001b[0;32m----> 4\u001b[0;31m \u001b[0;32mfrom\u001b[0m \u001b[0mcalculation_functions\u001b[0m \u001b[0;32mimport\u001b[0m \u001b[0mvincenty_inverse\u001b[0m\u001b[0;34m\u001b[0m\u001b[0m\n\u001b[0m\u001b[1;32m      5\u001b[0m \u001b[0;32mfrom\u001b[0m \u001b[0mcalculation_functions\u001b[0m \u001b[0;32mimport\u001b[0m \u001b[0mcompass_bearing\u001b[0m\u001b[0;34m\u001b[0m\u001b[0m\n\u001b[1;32m      6\u001b[0m \u001b[0;32mfrom\u001b[0m \u001b[0mcalculation_functions\u001b[0m \u001b[0;32mimport\u001b[0m \u001b[0mfisher_mean\u001b[0m\u001b[0;34m\u001b[0m\u001b[0m\n",
      "\u001b[0;31mImportError\u001b[0m: No module named 'calculation_functions'"
     ]
    }
   ],
   "source": [
    "import math\n",
    "import pandas as pd\n",
    "import numpy as np\n",
    "from calculation_functions import vincenty_inverse\n",
    "from calculation_functions import compass_bearing\n",
    "from calculation_functions import fisher_mean"
   ]
  },
  {
   "cell_type": "markdown",
   "metadata": {},
   "source": [
    "## read in the data\n",
    "\n",
    "The data must follow the format of the template."
   ]
  },
  {
   "cell_type": "code",
   "execution_count": null,
   "metadata": {},
   "outputs": [],
   "source": [
    "data = pd.read_csv('covers_template.csv')\n",
    "data"
   ]
  },
  {
   "cell_type": "markdown",
   "metadata": {},
   "source": [
    "## get the vincenty distance and compass bearing"
   ]
  },
  {
   "cell_type": "code",
   "execution_count": null,
   "metadata": {},
   "outputs": [],
   "source": [
    "for i in range(len(data.index)):\n",
    "    \n",
    "    # vincenty distance, converted from km to m\n",
    "    data.loc[i,'s'] = vincenty_inverse((data['start_lat'][i],data['start_lon'][i]),\\\n",
    "                                       (data['end_lat'][i],data['end_lon'][i]))\n",
    "    data.loc[i,'s'] = data.loc[i,'s'] * 1000\n",
    "    \n",
    "    # compass bearing\n",
    "    data.loc[i,'bearing'] = compass_bearing((data['start_lat'][i],data['start_lon'][i]),\\\n",
    "                                            (data['end_lat'][i],data['end_lon'][i]))"
   ]
  },
  {
   "cell_type": "markdown",
   "metadata": {},
   "source": [
    "## get the mean bedding"
   ]
  },
  {
   "cell_type": "code",
   "execution_count": null,
   "metadata": {},
   "outputs": [],
   "source": [
    "for i in range(len(data.index)):\n",
    "    \n",
    "    # first convert strike to dip direction\n",
    "    data.loc[i,'start_dip_direction'] = (data['start_strike'][i] + 90) % 360\n",
    "    data.loc[i,'end_dip_direction'] = (data['end_strike'][i] + 90) % 360\n",
    "        \n",
    "    # convert dip direction and dip of bedding to a pole (perpendicular to bedding) trend and plunge\n",
    "    data.loc[i,'start_pole_trend'] = (data['start_dip_direction'][i] + 180) % 360\n",
    "    data.loc[i,'start_pole_plunge'] = 90 - data['start_dip'][i]\n",
    "    data.loc[i,'end_pole_trend'] = (data['end_dip_direction'][i] + 180) % 360\n",
    "    data.loc[i,'end_pole_plunge'] = 90 - data['end_dip'][i]  \n",
    "    \n",
    "    # get the mean pole\n",
    "    di_block = [[data['start_pole_trend'][i],data['start_pole_plunge'][i]],\\\n",
    "                [data['end_pole_trend'][i],data['end_pole_plunge'][i]]]\n",
    "    fpars = fisher_mean(di_block)\n",
    "    data.loc[i,'mean_pole_trend'] = fpars['dec']\n",
    "    data.loc[i,'mean_pole_plunge'] = fpars['inc']\n",
    "    \n",
    "    # convert back to mean dip direction and dip\n",
    "    data.loc[i,'mean_dip_direction'] = (data['mean_pole_trend'][i] + 180) % 360\n",
    "    data.loc[i,'mean_dip'] = 90 - data['mean_pole_plunge'][i]"
   ]
  },
  {
   "cell_type": "markdown",
   "metadata": {},
   "source": [
    "## get the distance perpendicular to strike and the elevation difference"
   ]
  },
  {
   "cell_type": "code",
   "execution_count": null,
   "metadata": {},
   "outputs": [],
   "source": [
    "for i in range(len(data.index)):\n",
    "    \n",
    "    data.loc[i,'perp_s'] = data['s'][i] * math.cos(math.radians(abs(data['mean_dip_direction'][i] -\\\n",
    "                                                                    data['bearing'][i])))\n",
    "    \n",
    "    data.loc[i,'d_elev'] = data['end_elev'][i] - data['start_elev'][i]"
   ]
  },
  {
   "cell_type": "markdown",
   "metadata": {},
   "source": [
    "## get the true perpendicular distance (accounting for elevation), the absolute inclination between the adjusted points, the inclination from the line between the adjusted points, and the stratigraphic height"
   ]
  },
  {
   "cell_type": "code",
   "execution_count": null,
   "metadata": {},
   "outputs": [],
   "source": [
    "for i in range(len(data.index)):\n",
    "    \n",
    "    data.loc[i,'R'] = math.sqrt(data['d_elev'][i]**2 + data['perp_s'][i]**2)\n",
    "        \n",
    "    data.loc[i,'inclination'] = math.degrees(math.atan(data['d_elev'][i] / data['perp_s'][i]))\n",
    "    \n",
    "    if data['d_elev'][i] > 0:\n",
    "        data.loc[i,'angle'] = 90 - data['inclination'][i] - data['mean_dip'][i]\n",
    "    else:\n",
    "        data.loc[i,'angle'] = 90 - data['mean_dip'][i] + data['inclination'][i]\n",
    "        \n",
    "    data.loc[i,'HEIGHT'] = round(data['R'][i] * math.cos(math.radians(data['angle'][i])), 1)"
   ]
  },
  {
   "cell_type": "markdown",
   "metadata": {},
   "source": [
    "## output data"
   ]
  },
  {
   "cell_type": "code",
   "execution_count": null,
   "metadata": {},
   "outputs": [],
   "source": [
    "data"
   ]
  }
 ],
 "metadata": {
  "anaconda-cloud": {},
  "kernelspec": {
   "display_name": "Python [default]",
   "language": "python",
   "name": "python3"
  },
  "language_info": {
   "codemirror_mode": {
    "name": "ipython",
    "version": 3
   },
   "file_extension": ".py",
   "mimetype": "text/x-python",
   "name": "python",
   "nbconvert_exporter": "python",
   "pygments_lexer": "ipython3",
   "version": "3.5.4"
  },
  "toc": {
   "nav_menu": {
    "height": "171px",
    "width": "252px"
   },
   "number_sections": false,
   "sideBar": true,
   "skip_h1_title": false,
   "toc_cell": false,
   "toc_position": {
    "height": "648px",
    "left": "0px",
    "right": "1281px",
    "top": "111px",
    "width": "159px"
   },
   "toc_section_display": "block",
   "toc_window_display": true
  }
 },
 "nbformat": 4,
 "nbformat_minor": 1
}
